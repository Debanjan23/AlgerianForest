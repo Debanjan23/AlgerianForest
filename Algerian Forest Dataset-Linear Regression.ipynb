{
 "cells": [
  {
   "cell_type": "code",
   "execution_count": 20,
   "id": "1b2731f4",
   "metadata": {},
   "outputs": [],
   "source": [
    "import pandas as pd\n",
    "import numpy as np\n",
    "import seaborn as sns\n",
    "import category_encoders as ce\n",
    "import matplotlib.pyplot as plt\n",
    "%matplotlib inline"
   ]
  },
  {
   "cell_type": "markdown",
   "id": "44498ccd",
   "metadata": {},
   "source": [
    "## Read the dataset in dataframe"
   ]
  },
  {
   "cell_type": "code",
   "execution_count": 247,
   "id": "8775f32d",
   "metadata": {},
   "outputs": [],
   "source": [
    "df = pd.read_csv(r'C:\\Users\\dchakrab.COMPUTACENTER\\Downloads\\Algerian_forest_fires_dataset_UPDATE.csv')"
   ]
  },
  {
   "cell_type": "markdown",
   "id": "f3ad44b3",
   "metadata": {},
   "source": [
    "### Displaying first 5 rows"
   ]
  },
  {
   "cell_type": "code",
   "execution_count": 248,
   "id": "fa2eada1",
   "metadata": {},
   "outputs": [
    {
     "data": {
      "text/html": [
       "<div>\n",
       "<style scoped>\n",
       "    .dataframe tbody tr th:only-of-type {\n",
       "        vertical-align: middle;\n",
       "    }\n",
       "\n",
       "    .dataframe tbody tr th {\n",
       "        vertical-align: top;\n",
       "    }\n",
       "\n",
       "    .dataframe thead th {\n",
       "        text-align: right;\n",
       "    }\n",
       "</style>\n",
       "<table border=\"1\" class=\"dataframe\">\n",
       "  <thead>\n",
       "    <tr style=\"text-align: right;\">\n",
       "      <th></th>\n",
       "      <th>day</th>\n",
       "      <th>month</th>\n",
       "      <th>year</th>\n",
       "      <th>Temperature</th>\n",
       "      <th>RH</th>\n",
       "      <th>Ws</th>\n",
       "      <th>Rain</th>\n",
       "      <th>FFMC</th>\n",
       "      <th>DMC</th>\n",
       "      <th>DC</th>\n",
       "      <th>ISI</th>\n",
       "      <th>BUI</th>\n",
       "      <th>FWI</th>\n",
       "      <th>Classes</th>\n",
       "    </tr>\n",
       "  </thead>\n",
       "  <tbody>\n",
       "    <tr>\n",
       "      <th>0</th>\n",
       "      <td>1</td>\n",
       "      <td>6</td>\n",
       "      <td>2012</td>\n",
       "      <td>29</td>\n",
       "      <td>57</td>\n",
       "      <td>18</td>\n",
       "      <td>0</td>\n",
       "      <td>65.7</td>\n",
       "      <td>3.4</td>\n",
       "      <td>7.6</td>\n",
       "      <td>1.3</td>\n",
       "      <td>3.4</td>\n",
       "      <td>0.5</td>\n",
       "      <td>not fire</td>\n",
       "    </tr>\n",
       "    <tr>\n",
       "      <th>1</th>\n",
       "      <td>2</td>\n",
       "      <td>6</td>\n",
       "      <td>2012</td>\n",
       "      <td>29</td>\n",
       "      <td>61</td>\n",
       "      <td>13</td>\n",
       "      <td>1.3</td>\n",
       "      <td>64.4</td>\n",
       "      <td>4.1</td>\n",
       "      <td>7.6</td>\n",
       "      <td>1</td>\n",
       "      <td>3.9</td>\n",
       "      <td>0.4</td>\n",
       "      <td>not fire</td>\n",
       "    </tr>\n",
       "    <tr>\n",
       "      <th>2</th>\n",
       "      <td>3</td>\n",
       "      <td>6</td>\n",
       "      <td>2012</td>\n",
       "      <td>26</td>\n",
       "      <td>82</td>\n",
       "      <td>22</td>\n",
       "      <td>13.1</td>\n",
       "      <td>47.1</td>\n",
       "      <td>2.5</td>\n",
       "      <td>7.1</td>\n",
       "      <td>0.3</td>\n",
       "      <td>2.7</td>\n",
       "      <td>0.1</td>\n",
       "      <td>not fire</td>\n",
       "    </tr>\n",
       "    <tr>\n",
       "      <th>3</th>\n",
       "      <td>4</td>\n",
       "      <td>6</td>\n",
       "      <td>2012</td>\n",
       "      <td>25</td>\n",
       "      <td>89</td>\n",
       "      <td>13</td>\n",
       "      <td>2.5</td>\n",
       "      <td>28.6</td>\n",
       "      <td>1.3</td>\n",
       "      <td>6.9</td>\n",
       "      <td>0</td>\n",
       "      <td>1.7</td>\n",
       "      <td>0</td>\n",
       "      <td>not fire</td>\n",
       "    </tr>\n",
       "    <tr>\n",
       "      <th>4</th>\n",
       "      <td>5</td>\n",
       "      <td>6</td>\n",
       "      <td>2012</td>\n",
       "      <td>27</td>\n",
       "      <td>77</td>\n",
       "      <td>16</td>\n",
       "      <td>0</td>\n",
       "      <td>64.8</td>\n",
       "      <td>3</td>\n",
       "      <td>14.2</td>\n",
       "      <td>1.2</td>\n",
       "      <td>3.9</td>\n",
       "      <td>0.5</td>\n",
       "      <td>not fire</td>\n",
       "    </tr>\n",
       "  </tbody>\n",
       "</table>\n",
       "</div>"
      ],
      "text/plain": [
       "  day month  year Temperature  RH  Ws Rain   FFMC  DMC    DC  ISI  BUI  FWI  \\\n",
       "0   1     6  2012          29  57  18     0  65.7  3.4   7.6  1.3  3.4  0.5   \n",
       "1   2     6  2012          29  61  13   1.3  64.4  4.1   7.6    1  3.9  0.4   \n",
       "2   3     6  2012          26  82  22  13.1  47.1  2.5   7.1  0.3  2.7  0.1   \n",
       "3   4     6  2012          25  89  13   2.5  28.6  1.3   6.9    0  1.7    0   \n",
       "4   5     6  2012          27  77  16     0  64.8    3  14.2  1.2  3.9  0.5   \n",
       "\n",
       "       Classes  \n",
       "0  not fire     \n",
       "1  not fire     \n",
       "2  not fire     \n",
       "3  not fire     \n",
       "4  not fire     "
      ]
     },
     "execution_count": 248,
     "metadata": {},
     "output_type": "execute_result"
    }
   ],
   "source": [
    "df.head()"
   ]
  },
  {
   "cell_type": "code",
   "execution_count": null,
   "id": "5e83a4bd",
   "metadata": {},
   "outputs": [],
   "source": []
  },
  {
   "cell_type": "markdown",
   "id": "e7a557c0",
   "metadata": {},
   "source": [
    "## Data Cleaning"
   ]
  },
  {
   "cell_type": "code",
   "execution_count": 249,
   "id": "8e1519ab",
   "metadata": {},
   "outputs": [
    {
     "data": {
      "text/html": [
       "<div>\n",
       "<style scoped>\n",
       "    .dataframe tbody tr th:only-of-type {\n",
       "        vertical-align: middle;\n",
       "    }\n",
       "\n",
       "    .dataframe tbody tr th {\n",
       "        vertical-align: top;\n",
       "    }\n",
       "\n",
       "    .dataframe thead th {\n",
       "        text-align: right;\n",
       "    }\n",
       "</style>\n",
       "<table border=\"1\" class=\"dataframe\">\n",
       "  <thead>\n",
       "    <tr style=\"text-align: right;\">\n",
       "      <th></th>\n",
       "      <th>day</th>\n",
       "      <th>month</th>\n",
       "      <th>year</th>\n",
       "      <th>Temperature</th>\n",
       "      <th>RH</th>\n",
       "      <th>Ws</th>\n",
       "      <th>Rain</th>\n",
       "      <th>FFMC</th>\n",
       "      <th>DMC</th>\n",
       "      <th>DC</th>\n",
       "      <th>ISI</th>\n",
       "      <th>BUI</th>\n",
       "      <th>FWI</th>\n",
       "      <th>Classes</th>\n",
       "    </tr>\n",
       "  </thead>\n",
       "  <tbody>\n",
       "    <tr>\n",
       "      <th>121</th>\n",
       "      <td>30</td>\n",
       "      <td>9</td>\n",
       "      <td>2012</td>\n",
       "      <td>25</td>\n",
       "      <td>78</td>\n",
       "      <td>14</td>\n",
       "      <td>1.4</td>\n",
       "      <td>45</td>\n",
       "      <td>1.9</td>\n",
       "      <td>7.5</td>\n",
       "      <td>0.2</td>\n",
       "      <td>2.4</td>\n",
       "      <td>0.1</td>\n",
       "      <td>not fire</td>\n",
       "    </tr>\n",
       "    <tr>\n",
       "      <th>122</th>\n",
       "      <td>NaN</td>\n",
       "      <td>NaN</td>\n",
       "      <td>NaN</td>\n",
       "      <td>NaN</td>\n",
       "      <td>NaN</td>\n",
       "      <td>NaN</td>\n",
       "      <td>NaN</td>\n",
       "      <td>NaN</td>\n",
       "      <td>NaN</td>\n",
       "      <td>NaN</td>\n",
       "      <td>NaN</td>\n",
       "      <td>NaN</td>\n",
       "      <td>NaN</td>\n",
       "      <td>NaN</td>\n",
       "    </tr>\n",
       "    <tr>\n",
       "      <th>123</th>\n",
       "      <td>Sidi-Bel Abbes Region Dataset</td>\n",
       "      <td>NaN</td>\n",
       "      <td>NaN</td>\n",
       "      <td>NaN</td>\n",
       "      <td>NaN</td>\n",
       "      <td>NaN</td>\n",
       "      <td>NaN</td>\n",
       "      <td>NaN</td>\n",
       "      <td>NaN</td>\n",
       "      <td>NaN</td>\n",
       "      <td>NaN</td>\n",
       "      <td>NaN</td>\n",
       "      <td>NaN</td>\n",
       "      <td>NaN</td>\n",
       "    </tr>\n",
       "    <tr>\n",
       "      <th>124</th>\n",
       "      <td>day</td>\n",
       "      <td>month</td>\n",
       "      <td>year</td>\n",
       "      <td>Temperature</td>\n",
       "      <td>RH</td>\n",
       "      <td>Ws</td>\n",
       "      <td>Rain</td>\n",
       "      <td>FFMC</td>\n",
       "      <td>DMC</td>\n",
       "      <td>DC</td>\n",
       "      <td>ISI</td>\n",
       "      <td>BUI</td>\n",
       "      <td>FWI</td>\n",
       "      <td>Classes</td>\n",
       "    </tr>\n",
       "  </tbody>\n",
       "</table>\n",
       "</div>"
      ],
      "text/plain": [
       "                               day  month  year  Temperature   RH   Ws  Rain   \\\n",
       "121                             30      9  2012           25   78   14    1.4   \n",
       "122                            NaN    NaN   NaN          NaN  NaN  NaN    NaN   \n",
       "123  Sidi-Bel Abbes Region Dataset    NaN   NaN          NaN  NaN  NaN    NaN   \n",
       "124                            day  month  year  Temperature   RH   Ws  Rain    \n",
       "\n",
       "     FFMC  DMC   DC  ISI  BUI  FWI      Classes  \n",
       "121    45  1.9  7.5  0.2  2.4  0.1  not fire     \n",
       "122   NaN  NaN  NaN  NaN  NaN  NaN          NaN  \n",
       "123   NaN  NaN  NaN  NaN  NaN  NaN          NaN  \n",
       "124  FFMC  DMC   DC  ISI  BUI  FWI    Classes    "
      ]
     },
     "execution_count": 249,
     "metadata": {},
     "output_type": "execute_result"
    }
   ],
   "source": [
    "df.iloc[121:].head(4)"
   ]
  },
  {
   "cell_type": "code",
   "execution_count": 250,
   "id": "057b6043",
   "metadata": {},
   "outputs": [],
   "source": [
    "df.drop(index=[122,123,124], inplace = True)"
   ]
  },
  {
   "cell_type": "code",
   "execution_count": 252,
   "id": "b61b3a8a",
   "metadata": {},
   "outputs": [],
   "source": [
    "df.reset_index(inplace = True)"
   ]
  },
  {
   "cell_type": "code",
   "execution_count": 253,
   "id": "8493453b",
   "metadata": {},
   "outputs": [
    {
     "data": {
      "text/html": [
       "<div>\n",
       "<style scoped>\n",
       "    .dataframe tbody tr th:only-of-type {\n",
       "        vertical-align: middle;\n",
       "    }\n",
       "\n",
       "    .dataframe tbody tr th {\n",
       "        vertical-align: top;\n",
       "    }\n",
       "\n",
       "    .dataframe thead th {\n",
       "        text-align: right;\n",
       "    }\n",
       "</style>\n",
       "<table border=\"1\" class=\"dataframe\">\n",
       "  <thead>\n",
       "    <tr style=\"text-align: right;\">\n",
       "      <th></th>\n",
       "      <th>index</th>\n",
       "      <th>day</th>\n",
       "      <th>month</th>\n",
       "      <th>year</th>\n",
       "      <th>Temperature</th>\n",
       "      <th>RH</th>\n",
       "      <th>Ws</th>\n",
       "      <th>Rain</th>\n",
       "      <th>FFMC</th>\n",
       "      <th>DMC</th>\n",
       "      <th>DC</th>\n",
       "      <th>ISI</th>\n",
       "      <th>BUI</th>\n",
       "      <th>FWI</th>\n",
       "      <th>Classes</th>\n",
       "    </tr>\n",
       "  </thead>\n",
       "  <tbody>\n",
       "    <tr>\n",
       "      <th>121</th>\n",
       "      <td>121</td>\n",
       "      <td>30</td>\n",
       "      <td>9</td>\n",
       "      <td>2012</td>\n",
       "      <td>25</td>\n",
       "      <td>78</td>\n",
       "      <td>14</td>\n",
       "      <td>1.4</td>\n",
       "      <td>45</td>\n",
       "      <td>1.9</td>\n",
       "      <td>7.5</td>\n",
       "      <td>0.2</td>\n",
       "      <td>2.4</td>\n",
       "      <td>0.1</td>\n",
       "      <td>not fire</td>\n",
       "    </tr>\n",
       "    <tr>\n",
       "      <th>122</th>\n",
       "      <td>125</td>\n",
       "      <td>1</td>\n",
       "      <td>6</td>\n",
       "      <td>2012</td>\n",
       "      <td>32</td>\n",
       "      <td>71</td>\n",
       "      <td>12</td>\n",
       "      <td>0.7</td>\n",
       "      <td>57.1</td>\n",
       "      <td>2.5</td>\n",
       "      <td>8.2</td>\n",
       "      <td>0.6</td>\n",
       "      <td>2.8</td>\n",
       "      <td>0.2</td>\n",
       "      <td>not fire</td>\n",
       "    </tr>\n",
       "    <tr>\n",
       "      <th>123</th>\n",
       "      <td>126</td>\n",
       "      <td>2</td>\n",
       "      <td>6</td>\n",
       "      <td>2012</td>\n",
       "      <td>30</td>\n",
       "      <td>73</td>\n",
       "      <td>13</td>\n",
       "      <td>4</td>\n",
       "      <td>55.7</td>\n",
       "      <td>2.7</td>\n",
       "      <td>7.8</td>\n",
       "      <td>0.6</td>\n",
       "      <td>2.9</td>\n",
       "      <td>0.2</td>\n",
       "      <td>not fire</td>\n",
       "    </tr>\n",
       "    <tr>\n",
       "      <th>124</th>\n",
       "      <td>127</td>\n",
       "      <td>3</td>\n",
       "      <td>6</td>\n",
       "      <td>2012</td>\n",
       "      <td>29</td>\n",
       "      <td>80</td>\n",
       "      <td>14</td>\n",
       "      <td>2</td>\n",
       "      <td>48.7</td>\n",
       "      <td>2.2</td>\n",
       "      <td>7.6</td>\n",
       "      <td>0.3</td>\n",
       "      <td>2.6</td>\n",
       "      <td>0.1</td>\n",
       "      <td>not fire</td>\n",
       "    </tr>\n",
       "  </tbody>\n",
       "</table>\n",
       "</div>"
      ],
      "text/plain": [
       "     index day month  year Temperature  RH  Ws Rain   FFMC  DMC   DC  ISI  \\\n",
       "121    121  30     9  2012          25  78  14   1.4    45  1.9  7.5  0.2   \n",
       "122    125   1     6  2012          32  71  12   0.7  57.1  2.5  8.2  0.6   \n",
       "123    126   2     6  2012          30  73  13     4  55.7  2.7  7.8  0.6   \n",
       "124    127   3     6  2012          29  80  14     2  48.7  2.2  7.6  0.3   \n",
       "\n",
       "     BUI  FWI      Classes  \n",
       "121  2.4  0.1  not fire     \n",
       "122  2.8  0.2  not fire     \n",
       "123  2.9  0.2  not fire     \n",
       "124  2.6  0.1  not fire     "
      ]
     },
     "execution_count": 253,
     "metadata": {},
     "output_type": "execute_result"
    }
   ],
   "source": [
    "df.iloc[121:].head(4)"
   ]
  },
  {
   "cell_type": "code",
   "execution_count": null,
   "id": "967732b0",
   "metadata": {},
   "outputs": [],
   "source": []
  },
  {
   "cell_type": "code",
   "execution_count": 254,
   "id": "ad07b49f",
   "metadata": {},
   "outputs": [],
   "source": [
    "df.drop('index', axis=1, inplace = True)"
   ]
  },
  {
   "cell_type": "markdown",
   "id": "e20adc32",
   "metadata": {},
   "source": [
    "## Creating Boolean values for Bejaia Region and Sidi Abbess Region Dataset"
   ]
  },
  {
   "cell_type": "code",
   "execution_count": 255,
   "id": "dcb40d88",
   "metadata": {},
   "outputs": [],
   "source": [
    "df.loc[:122,'Region']=0\n",
    "df.loc[122:,'Region']=1"
   ]
  },
  {
   "cell_type": "markdown",
   "id": "1eaec77a",
   "metadata": {},
   "source": [
    "## Summary of the dataset"
   ]
  },
  {
   "cell_type": "code",
   "execution_count": 256,
   "id": "0a66ab13",
   "metadata": {},
   "outputs": [
    {
     "name": "stdout",
     "output_type": "stream",
     "text": [
      "<class 'pandas.core.frame.DataFrame'>\n",
      "RangeIndex: 244 entries, 0 to 243\n",
      "Data columns (total 15 columns):\n",
      " #   Column       Non-Null Count  Dtype  \n",
      "---  ------       --------------  -----  \n",
      " 0   day          244 non-null    object \n",
      " 1   month        244 non-null    object \n",
      " 2   year         244 non-null    object \n",
      " 3   Temperature  244 non-null    object \n",
      " 4    RH          244 non-null    object \n",
      " 5    Ws          244 non-null    object \n",
      " 6   Rain         244 non-null    object \n",
      " 7   FFMC         244 non-null    object \n",
      " 8   DMC          244 non-null    object \n",
      " 9   DC           244 non-null    object \n",
      " 10  ISI          244 non-null    object \n",
      " 11  BUI          244 non-null    object \n",
      " 12  FWI          244 non-null    object \n",
      " 13  Classes      244 non-null    object \n",
      " 14  Region       244 non-null    float64\n",
      "dtypes: float64(1), object(14)\n",
      "memory usage: 28.7+ KB\n"
     ]
    }
   ],
   "source": [
    "df.info()"
   ]
  },
  {
   "cell_type": "code",
   "execution_count": 257,
   "id": "e968fa27",
   "metadata": {},
   "outputs": [
    {
     "data": {
      "text/plain": [
       "Index(['day', 'month', 'year', 'Temperature', ' RH', ' Ws', 'Rain ', 'FFMC',\n",
       "       'DMC', 'DC', 'ISI', 'BUI', 'FWI', 'Classes', 'Region'],\n",
       "      dtype='object')"
      ]
     },
     "execution_count": 257,
     "metadata": {},
     "output_type": "execute_result"
    }
   ],
   "source": [
    "df.columns"
   ]
  },
  {
   "cell_type": "markdown",
   "id": "60043e65",
   "metadata": {},
   "source": [
    "### Removing spaces from column names"
   ]
  },
  {
   "cell_type": "code",
   "execution_count": 258,
   "id": "39378249",
   "metadata": {},
   "outputs": [],
   "source": [
    "df.columns = [i.strip() for i in df.columns]"
   ]
  },
  {
   "cell_type": "code",
   "execution_count": 259,
   "id": "38c58182",
   "metadata": {},
   "outputs": [
    {
     "data": {
      "text/plain": [
       "Index(['day', 'month', 'year', 'Temperature', 'RH', 'Ws', 'Rain', 'FFMC',\n",
       "       'DMC', 'DC', 'ISI', 'BUI', 'FWI', 'Classes', 'Region'],\n",
       "      dtype='object')"
      ]
     },
     "execution_count": 259,
     "metadata": {},
     "output_type": "execute_result"
    }
   ],
   "source": [
    "df.columns"
   ]
  },
  {
   "cell_type": "markdown",
   "id": "978d5556",
   "metadata": {},
   "source": [
    "### changing datatypes"
   ]
  },
  {
   "cell_type": "code",
   "execution_count": 260,
   "id": "1076a9a8",
   "metadata": {},
   "outputs": [],
   "source": [
    "df_dtypes={'day':'int64','month':'int64','year':'int64','Temperature':'int64','RH':'int64','Ws':'int64','Rain':'float64','FFMC':'float64','DMC':'float64','DMC':'float64','DC':'float64','ISI':'float64','BUI':'float64'}\n",
    "df=df.astype(df_dtypes)"
   ]
  },
  {
   "cell_type": "code",
   "execution_count": 261,
   "id": "79c66c98",
   "metadata": {},
   "outputs": [],
   "source": [
    "df=df.astype({'FWI':'float64'})"
   ]
  },
  {
   "cell_type": "markdown",
   "id": "d5d102eb",
   "metadata": {},
   "source": [
    "### Summary of the dataset"
   ]
  },
  {
   "cell_type": "code",
   "execution_count": 262,
   "id": "81ec7da0",
   "metadata": {},
   "outputs": [
    {
     "name": "stdout",
     "output_type": "stream",
     "text": [
      "<class 'pandas.core.frame.DataFrame'>\n",
      "RangeIndex: 244 entries, 0 to 243\n",
      "Data columns (total 15 columns):\n",
      " #   Column       Non-Null Count  Dtype  \n",
      "---  ------       --------------  -----  \n",
      " 0   day          244 non-null    int64  \n",
      " 1   month        244 non-null    int64  \n",
      " 2   year         244 non-null    int64  \n",
      " 3   Temperature  244 non-null    int64  \n",
      " 4   RH           244 non-null    int64  \n",
      " 5   Ws           244 non-null    int64  \n",
      " 6   Rain         244 non-null    float64\n",
      " 7   FFMC         244 non-null    float64\n",
      " 8   DMC          244 non-null    float64\n",
      " 9   DC           244 non-null    float64\n",
      " 10  ISI          244 non-null    float64\n",
      " 11  BUI          244 non-null    float64\n",
      " 12  FWI          244 non-null    float64\n",
      " 13  Classes      244 non-null    object \n",
      " 14  Region       244 non-null    float64\n",
      "dtypes: float64(8), int64(6), object(1)\n",
      "memory usage: 28.7+ KB\n"
     ]
    }
   ],
   "source": [
    "df.info()"
   ]
  },
  {
   "cell_type": "code",
   "execution_count": null,
   "id": "66d72132",
   "metadata": {},
   "outputs": [],
   "source": []
  },
  {
   "cell_type": "markdown",
   "id": "ae676c25",
   "metadata": {},
   "source": [
    "## Shape of the dataset"
   ]
  },
  {
   "cell_type": "code",
   "execution_count": null,
   "id": "79d545e9",
   "metadata": {},
   "outputs": [],
   "source": []
  },
  {
   "cell_type": "code",
   "execution_count": 263,
   "id": "62aecfde",
   "metadata": {},
   "outputs": [
    {
     "data": {
      "text/plain": [
       "(244, 15)"
      ]
     },
     "execution_count": 263,
     "metadata": {},
     "output_type": "execute_result"
    }
   ],
   "source": [
    "df.shape"
   ]
  },
  {
   "cell_type": "markdown",
   "id": "4d8687e5",
   "metadata": {},
   "source": [
    "## Memory Usage"
   ]
  },
  {
   "cell_type": "code",
   "execution_count": 264,
   "id": "dfb9dedc",
   "metadata": {},
   "outputs": [
    {
     "data": {
      "text/plain": [
       "Index           128\n",
       "day            1952\n",
       "month          1952\n",
       "year           1952\n",
       "Temperature    1952\n",
       "RH             1952\n",
       "Ws             1952\n",
       "Rain           1952\n",
       "FFMC           1952\n",
       "DMC            1952\n",
       "DC             1952\n",
       "ISI            1952\n",
       "BUI            1952\n",
       "FWI            1952\n",
       "Classes        1952\n",
       "Region         1952\n",
       "dtype: int64"
      ]
     },
     "execution_count": 264,
     "metadata": {},
     "output_type": "execute_result"
    }
   ],
   "source": [
    "df.memory_usage()"
   ]
  },
  {
   "cell_type": "markdown",
   "id": "48ee8de6",
   "metadata": {},
   "source": [
    "## Missing values"
   ]
  },
  {
   "cell_type": "code",
   "execution_count": 265,
   "id": "e6f24772",
   "metadata": {},
   "outputs": [
    {
     "data": {
      "text/plain": [
       "day            0\n",
       "month          0\n",
       "year           0\n",
       "Temperature    0\n",
       "RH             0\n",
       "Ws             0\n",
       "Rain           0\n",
       "FFMC           0\n",
       "DMC            0\n",
       "DC             0\n",
       "ISI            0\n",
       "BUI            0\n",
       "FWI            0\n",
       "Classes        0\n",
       "Region         0\n",
       "dtype: int64"
      ]
     },
     "execution_count": 265,
     "metadata": {},
     "output_type": "execute_result"
    }
   ],
   "source": [
    "df.isnull().sum()"
   ]
  },
  {
   "cell_type": "markdown",
   "id": "7eedecd6",
   "metadata": {},
   "source": [
    "## We do not have any missing values in the dataset"
   ]
  },
  {
   "cell_type": "code",
   "execution_count": null,
   "id": "293057d6",
   "metadata": {},
   "outputs": [],
   "source": [
    "## Fetching categorical fetaure"
   ]
  },
  {
   "cell_type": "code",
   "execution_count": 266,
   "id": "1b0a61cc",
   "metadata": {},
   "outputs": [],
   "source": [
    "cat_fea = [fea for fea in df.columns if df[fea].dtype=='O']"
   ]
  },
  {
   "cell_type": "code",
   "execution_count": 224,
   "id": "398f12d0",
   "metadata": {},
   "outputs": [
    {
     "data": {
      "text/plain": [
       "['Classes']"
      ]
     },
     "execution_count": 224,
     "metadata": {},
     "output_type": "execute_result"
    }
   ],
   "source": [
    "cat_fea"
   ]
  },
  {
   "cell_type": "markdown",
   "id": "267f4f8f",
   "metadata": {},
   "source": [
    "## We need to remove whitespaces from column values"
   ]
  },
  {
   "cell_type": "code",
   "execution_count": 270,
   "id": "77273820",
   "metadata": {},
   "outputs": [],
   "source": [
    "df['Classes']=df['Classes'].str.strip()"
   ]
  },
  {
   "cell_type": "code",
   "execution_count": null,
   "id": "aacb0ce5",
   "metadata": {},
   "outputs": [],
   "source": []
  },
  {
   "cell_type": "markdown",
   "id": "0eee13a1",
   "metadata": {},
   "source": [
    "## Encoding categorical feature, here we have one categorical feature which is classes. We need to encode it."
   ]
  },
  {
   "cell_type": "code",
   "execution_count": 272,
   "id": "0e51223e",
   "metadata": {},
   "outputs": [
    {
     "data": {
      "text/plain": [
       "Classes\n",
       "fire        138\n",
       "not fire    106\n",
       "dtype: int64"
      ]
     },
     "execution_count": 272,
     "metadata": {},
     "output_type": "execute_result"
    }
   ],
   "source": [
    "df.groupby('Classes').size()"
   ]
  },
  {
   "cell_type": "code",
   "execution_count": 273,
   "id": "a83a395a",
   "metadata": {},
   "outputs": [],
   "source": [
    "classes_dict = {'not fire': 0,'fire': 1}"
   ]
  },
  {
   "cell_type": "code",
   "execution_count": 274,
   "id": "e10c2fc7",
   "metadata": {},
   "outputs": [],
   "source": [
    "df['Classes'] = df.Classes.map(classes_dict)"
   ]
  },
  {
   "cell_type": "code",
   "execution_count": 275,
   "id": "13746999",
   "metadata": {},
   "outputs": [
    {
     "data": {
      "text/html": [
       "<div>\n",
       "<style scoped>\n",
       "    .dataframe tbody tr th:only-of-type {\n",
       "        vertical-align: middle;\n",
       "    }\n",
       "\n",
       "    .dataframe tbody tr th {\n",
       "        vertical-align: top;\n",
       "    }\n",
       "\n",
       "    .dataframe thead th {\n",
       "        text-align: right;\n",
       "    }\n",
       "</style>\n",
       "<table border=\"1\" class=\"dataframe\">\n",
       "  <thead>\n",
       "    <tr style=\"text-align: right;\">\n",
       "      <th></th>\n",
       "      <th>day</th>\n",
       "      <th>month</th>\n",
       "      <th>year</th>\n",
       "      <th>Temperature</th>\n",
       "      <th>RH</th>\n",
       "      <th>Ws</th>\n",
       "      <th>Rain</th>\n",
       "      <th>FFMC</th>\n",
       "      <th>DMC</th>\n",
       "      <th>DC</th>\n",
       "      <th>ISI</th>\n",
       "      <th>BUI</th>\n",
       "      <th>FWI</th>\n",
       "      <th>Classes</th>\n",
       "      <th>Region</th>\n",
       "    </tr>\n",
       "  </thead>\n",
       "  <tbody>\n",
       "    <tr>\n",
       "      <th>0</th>\n",
       "      <td>1</td>\n",
       "      <td>6</td>\n",
       "      <td>2012</td>\n",
       "      <td>29</td>\n",
       "      <td>57</td>\n",
       "      <td>18</td>\n",
       "      <td>0.0</td>\n",
       "      <td>65.7</td>\n",
       "      <td>3.4</td>\n",
       "      <td>7.6</td>\n",
       "      <td>1.3</td>\n",
       "      <td>3.4</td>\n",
       "      <td>0.5</td>\n",
       "      <td>0</td>\n",
       "      <td>0.0</td>\n",
       "    </tr>\n",
       "    <tr>\n",
       "      <th>1</th>\n",
       "      <td>2</td>\n",
       "      <td>6</td>\n",
       "      <td>2012</td>\n",
       "      <td>29</td>\n",
       "      <td>61</td>\n",
       "      <td>13</td>\n",
       "      <td>1.3</td>\n",
       "      <td>64.4</td>\n",
       "      <td>4.1</td>\n",
       "      <td>7.6</td>\n",
       "      <td>1.0</td>\n",
       "      <td>3.9</td>\n",
       "      <td>0.4</td>\n",
       "      <td>0</td>\n",
       "      <td>0.0</td>\n",
       "    </tr>\n",
       "    <tr>\n",
       "      <th>2</th>\n",
       "      <td>3</td>\n",
       "      <td>6</td>\n",
       "      <td>2012</td>\n",
       "      <td>26</td>\n",
       "      <td>82</td>\n",
       "      <td>22</td>\n",
       "      <td>13.1</td>\n",
       "      <td>47.1</td>\n",
       "      <td>2.5</td>\n",
       "      <td>7.1</td>\n",
       "      <td>0.3</td>\n",
       "      <td>2.7</td>\n",
       "      <td>0.1</td>\n",
       "      <td>0</td>\n",
       "      <td>0.0</td>\n",
       "    </tr>\n",
       "    <tr>\n",
       "      <th>3</th>\n",
       "      <td>4</td>\n",
       "      <td>6</td>\n",
       "      <td>2012</td>\n",
       "      <td>25</td>\n",
       "      <td>89</td>\n",
       "      <td>13</td>\n",
       "      <td>2.5</td>\n",
       "      <td>28.6</td>\n",
       "      <td>1.3</td>\n",
       "      <td>6.9</td>\n",
       "      <td>0.0</td>\n",
       "      <td>1.7</td>\n",
       "      <td>0.0</td>\n",
       "      <td>0</td>\n",
       "      <td>0.0</td>\n",
       "    </tr>\n",
       "    <tr>\n",
       "      <th>4</th>\n",
       "      <td>5</td>\n",
       "      <td>6</td>\n",
       "      <td>2012</td>\n",
       "      <td>27</td>\n",
       "      <td>77</td>\n",
       "      <td>16</td>\n",
       "      <td>0.0</td>\n",
       "      <td>64.8</td>\n",
       "      <td>3.0</td>\n",
       "      <td>14.2</td>\n",
       "      <td>1.2</td>\n",
       "      <td>3.9</td>\n",
       "      <td>0.5</td>\n",
       "      <td>0</td>\n",
       "      <td>0.0</td>\n",
       "    </tr>\n",
       "    <tr>\n",
       "      <th>...</th>\n",
       "      <td>...</td>\n",
       "      <td>...</td>\n",
       "      <td>...</td>\n",
       "      <td>...</td>\n",
       "      <td>...</td>\n",
       "      <td>...</td>\n",
       "      <td>...</td>\n",
       "      <td>...</td>\n",
       "      <td>...</td>\n",
       "      <td>...</td>\n",
       "      <td>...</td>\n",
       "      <td>...</td>\n",
       "      <td>...</td>\n",
       "      <td>...</td>\n",
       "      <td>...</td>\n",
       "    </tr>\n",
       "    <tr>\n",
       "      <th>239</th>\n",
       "      <td>26</td>\n",
       "      <td>9</td>\n",
       "      <td>2012</td>\n",
       "      <td>30</td>\n",
       "      <td>65</td>\n",
       "      <td>14</td>\n",
       "      <td>0.0</td>\n",
       "      <td>85.4</td>\n",
       "      <td>16.0</td>\n",
       "      <td>44.5</td>\n",
       "      <td>4.5</td>\n",
       "      <td>16.9</td>\n",
       "      <td>6.5</td>\n",
       "      <td>1</td>\n",
       "      <td>1.0</td>\n",
       "    </tr>\n",
       "    <tr>\n",
       "      <th>240</th>\n",
       "      <td>27</td>\n",
       "      <td>9</td>\n",
       "      <td>2012</td>\n",
       "      <td>28</td>\n",
       "      <td>87</td>\n",
       "      <td>15</td>\n",
       "      <td>4.4</td>\n",
       "      <td>41.1</td>\n",
       "      <td>6.5</td>\n",
       "      <td>8.0</td>\n",
       "      <td>0.1</td>\n",
       "      <td>6.2</td>\n",
       "      <td>0.0</td>\n",
       "      <td>0</td>\n",
       "      <td>1.0</td>\n",
       "    </tr>\n",
       "    <tr>\n",
       "      <th>241</th>\n",
       "      <td>28</td>\n",
       "      <td>9</td>\n",
       "      <td>2012</td>\n",
       "      <td>27</td>\n",
       "      <td>87</td>\n",
       "      <td>29</td>\n",
       "      <td>0.5</td>\n",
       "      <td>45.9</td>\n",
       "      <td>3.5</td>\n",
       "      <td>7.9</td>\n",
       "      <td>0.4</td>\n",
       "      <td>3.4</td>\n",
       "      <td>0.2</td>\n",
       "      <td>0</td>\n",
       "      <td>1.0</td>\n",
       "    </tr>\n",
       "    <tr>\n",
       "      <th>242</th>\n",
       "      <td>29</td>\n",
       "      <td>9</td>\n",
       "      <td>2012</td>\n",
       "      <td>24</td>\n",
       "      <td>54</td>\n",
       "      <td>18</td>\n",
       "      <td>0.1</td>\n",
       "      <td>79.7</td>\n",
       "      <td>4.3</td>\n",
       "      <td>15.2</td>\n",
       "      <td>1.7</td>\n",
       "      <td>5.1</td>\n",
       "      <td>0.7</td>\n",
       "      <td>0</td>\n",
       "      <td>1.0</td>\n",
       "    </tr>\n",
       "    <tr>\n",
       "      <th>243</th>\n",
       "      <td>30</td>\n",
       "      <td>9</td>\n",
       "      <td>2012</td>\n",
       "      <td>24</td>\n",
       "      <td>64</td>\n",
       "      <td>15</td>\n",
       "      <td>0.2</td>\n",
       "      <td>67.3</td>\n",
       "      <td>3.8</td>\n",
       "      <td>16.5</td>\n",
       "      <td>1.2</td>\n",
       "      <td>4.8</td>\n",
       "      <td>0.5</td>\n",
       "      <td>0</td>\n",
       "      <td>1.0</td>\n",
       "    </tr>\n",
       "  </tbody>\n",
       "</table>\n",
       "<p>244 rows × 15 columns</p>\n",
       "</div>"
      ],
      "text/plain": [
       "     day  month  year  Temperature  RH  Ws  Rain  FFMC   DMC    DC  ISI   BUI  \\\n",
       "0      1      6  2012           29  57  18   0.0  65.7   3.4   7.6  1.3   3.4   \n",
       "1      2      6  2012           29  61  13   1.3  64.4   4.1   7.6  1.0   3.9   \n",
       "2      3      6  2012           26  82  22  13.1  47.1   2.5   7.1  0.3   2.7   \n",
       "3      4      6  2012           25  89  13   2.5  28.6   1.3   6.9  0.0   1.7   \n",
       "4      5      6  2012           27  77  16   0.0  64.8   3.0  14.2  1.2   3.9   \n",
       "..   ...    ...   ...          ...  ..  ..   ...   ...   ...   ...  ...   ...   \n",
       "239   26      9  2012           30  65  14   0.0  85.4  16.0  44.5  4.5  16.9   \n",
       "240   27      9  2012           28  87  15   4.4  41.1   6.5   8.0  0.1   6.2   \n",
       "241   28      9  2012           27  87  29   0.5  45.9   3.5   7.9  0.4   3.4   \n",
       "242   29      9  2012           24  54  18   0.1  79.7   4.3  15.2  1.7   5.1   \n",
       "243   30      9  2012           24  64  15   0.2  67.3   3.8  16.5  1.2   4.8   \n",
       "\n",
       "     FWI  Classes  Region  \n",
       "0    0.5        0     0.0  \n",
       "1    0.4        0     0.0  \n",
       "2    0.1        0     0.0  \n",
       "3    0.0        0     0.0  \n",
       "4    0.5        0     0.0  \n",
       "..   ...      ...     ...  \n",
       "239  6.5        1     1.0  \n",
       "240  0.0        0     1.0  \n",
       "241  0.2        0     1.0  \n",
       "242  0.7        0     1.0  \n",
       "243  0.5        0     1.0  \n",
       "\n",
       "[244 rows x 15 columns]"
      ]
     },
     "execution_count": 275,
     "metadata": {},
     "output_type": "execute_result"
    }
   ],
   "source": [
    "df"
   ]
  },
  {
   "cell_type": "code",
   "execution_count": 280,
   "id": "ff44e2d2",
   "metadata": {},
   "outputs": [
    {
     "data": {
      "text/html": [
       "<div>\n",
       "<style scoped>\n",
       "    .dataframe tbody tr th:only-of-type {\n",
       "        vertical-align: middle;\n",
       "    }\n",
       "\n",
       "    .dataframe tbody tr th {\n",
       "        vertical-align: top;\n",
       "    }\n",
       "\n",
       "    .dataframe thead th {\n",
       "        text-align: right;\n",
       "    }\n",
       "</style>\n",
       "<table border=\"1\" class=\"dataframe\">\n",
       "  <thead>\n",
       "    <tr style=\"text-align: right;\">\n",
       "      <th></th>\n",
       "      <th>day</th>\n",
       "      <th>month</th>\n",
       "      <th>year</th>\n",
       "      <th>Temperature</th>\n",
       "      <th>RH</th>\n",
       "      <th>Ws</th>\n",
       "      <th>Rain</th>\n",
       "      <th>FFMC</th>\n",
       "      <th>DMC</th>\n",
       "      <th>DC</th>\n",
       "      <th>ISI</th>\n",
       "      <th>BUI</th>\n",
       "      <th>FWI</th>\n",
       "      <th>Classes</th>\n",
       "      <th>Region</th>\n",
       "    </tr>\n",
       "  </thead>\n",
       "  <tbody>\n",
       "    <tr>\n",
       "      <th>count</th>\n",
       "      <td>244.000000</td>\n",
       "      <td>244.000000</td>\n",
       "      <td>244.0</td>\n",
       "      <td>244.000000</td>\n",
       "      <td>244.000000</td>\n",
       "      <td>244.000000</td>\n",
       "      <td>244.000000</td>\n",
       "      <td>244.000000</td>\n",
       "      <td>244.000000</td>\n",
       "      <td>244.000000</td>\n",
       "      <td>244.000000</td>\n",
       "      <td>244.000000</td>\n",
       "      <td>244.000000</td>\n",
       "      <td>244.000000</td>\n",
       "      <td>244.000000</td>\n",
       "    </tr>\n",
       "    <tr>\n",
       "      <th>mean</th>\n",
       "      <td>15.754098</td>\n",
       "      <td>7.500000</td>\n",
       "      <td>2012.0</td>\n",
       "      <td>32.172131</td>\n",
       "      <td>61.938525</td>\n",
       "      <td>15.504098</td>\n",
       "      <td>0.760656</td>\n",
       "      <td>77.887705</td>\n",
       "      <td>14.673361</td>\n",
       "      <td>49.288484</td>\n",
       "      <td>4.774180</td>\n",
       "      <td>16.664754</td>\n",
       "      <td>7.006967</td>\n",
       "      <td>0.565574</td>\n",
       "      <td>0.500000</td>\n",
       "    </tr>\n",
       "    <tr>\n",
       "      <th>std</th>\n",
       "      <td>8.825059</td>\n",
       "      <td>1.112961</td>\n",
       "      <td>0.0</td>\n",
       "      <td>3.633843</td>\n",
       "      <td>14.884200</td>\n",
       "      <td>2.810178</td>\n",
       "      <td>1.999406</td>\n",
       "      <td>14.337571</td>\n",
       "      <td>12.368039</td>\n",
       "      <td>47.619393</td>\n",
       "      <td>4.175318</td>\n",
       "      <td>14.204824</td>\n",
       "      <td>7.438505</td>\n",
       "      <td>0.496700</td>\n",
       "      <td>0.501028</td>\n",
       "    </tr>\n",
       "    <tr>\n",
       "      <th>min</th>\n",
       "      <td>1.000000</td>\n",
       "      <td>6.000000</td>\n",
       "      <td>2012.0</td>\n",
       "      <td>22.000000</td>\n",
       "      <td>21.000000</td>\n",
       "      <td>6.000000</td>\n",
       "      <td>0.000000</td>\n",
       "      <td>28.600000</td>\n",
       "      <td>0.700000</td>\n",
       "      <td>6.900000</td>\n",
       "      <td>0.000000</td>\n",
       "      <td>1.100000</td>\n",
       "      <td>0.000000</td>\n",
       "      <td>0.000000</td>\n",
       "      <td>0.000000</td>\n",
       "    </tr>\n",
       "    <tr>\n",
       "      <th>25%</th>\n",
       "      <td>8.000000</td>\n",
       "      <td>7.000000</td>\n",
       "      <td>2012.0</td>\n",
       "      <td>30.000000</td>\n",
       "      <td>52.000000</td>\n",
       "      <td>14.000000</td>\n",
       "      <td>0.000000</td>\n",
       "      <td>72.075000</td>\n",
       "      <td>5.800000</td>\n",
       "      <td>13.275000</td>\n",
       "      <td>1.400000</td>\n",
       "      <td>6.000000</td>\n",
       "      <td>0.700000</td>\n",
       "      <td>0.000000</td>\n",
       "      <td>0.000000</td>\n",
       "    </tr>\n",
       "    <tr>\n",
       "      <th>50%</th>\n",
       "      <td>16.000000</td>\n",
       "      <td>7.500000</td>\n",
       "      <td>2012.0</td>\n",
       "      <td>32.000000</td>\n",
       "      <td>63.000000</td>\n",
       "      <td>15.000000</td>\n",
       "      <td>0.000000</td>\n",
       "      <td>83.500000</td>\n",
       "      <td>11.300000</td>\n",
       "      <td>33.100000</td>\n",
       "      <td>3.500000</td>\n",
       "      <td>12.250000</td>\n",
       "      <td>4.200000</td>\n",
       "      <td>1.000000</td>\n",
       "      <td>0.500000</td>\n",
       "    </tr>\n",
       "    <tr>\n",
       "      <th>75%</th>\n",
       "      <td>23.000000</td>\n",
       "      <td>8.000000</td>\n",
       "      <td>2012.0</td>\n",
       "      <td>35.000000</td>\n",
       "      <td>73.250000</td>\n",
       "      <td>17.000000</td>\n",
       "      <td>0.500000</td>\n",
       "      <td>88.300000</td>\n",
       "      <td>20.750000</td>\n",
       "      <td>68.150000</td>\n",
       "      <td>7.300000</td>\n",
       "      <td>22.525000</td>\n",
       "      <td>11.375000</td>\n",
       "      <td>1.000000</td>\n",
       "      <td>1.000000</td>\n",
       "    </tr>\n",
       "    <tr>\n",
       "      <th>max</th>\n",
       "      <td>31.000000</td>\n",
       "      <td>9.000000</td>\n",
       "      <td>2012.0</td>\n",
       "      <td>42.000000</td>\n",
       "      <td>90.000000</td>\n",
       "      <td>29.000000</td>\n",
       "      <td>16.800000</td>\n",
       "      <td>96.000000</td>\n",
       "      <td>65.900000</td>\n",
       "      <td>220.400000</td>\n",
       "      <td>19.000000</td>\n",
       "      <td>68.000000</td>\n",
       "      <td>31.100000</td>\n",
       "      <td>1.000000</td>\n",
       "      <td>1.000000</td>\n",
       "    </tr>\n",
       "  </tbody>\n",
       "</table>\n",
       "</div>"
      ],
      "text/plain": [
       "              day       month    year  Temperature          RH          Ws  \\\n",
       "count  244.000000  244.000000   244.0   244.000000  244.000000  244.000000   \n",
       "mean    15.754098    7.500000  2012.0    32.172131   61.938525   15.504098   \n",
       "std      8.825059    1.112961     0.0     3.633843   14.884200    2.810178   \n",
       "min      1.000000    6.000000  2012.0    22.000000   21.000000    6.000000   \n",
       "25%      8.000000    7.000000  2012.0    30.000000   52.000000   14.000000   \n",
       "50%     16.000000    7.500000  2012.0    32.000000   63.000000   15.000000   \n",
       "75%     23.000000    8.000000  2012.0    35.000000   73.250000   17.000000   \n",
       "max     31.000000    9.000000  2012.0    42.000000   90.000000   29.000000   \n",
       "\n",
       "             Rain        FFMC         DMC          DC         ISI         BUI  \\\n",
       "count  244.000000  244.000000  244.000000  244.000000  244.000000  244.000000   \n",
       "mean     0.760656   77.887705   14.673361   49.288484    4.774180   16.664754   \n",
       "std      1.999406   14.337571   12.368039   47.619393    4.175318   14.204824   \n",
       "min      0.000000   28.600000    0.700000    6.900000    0.000000    1.100000   \n",
       "25%      0.000000   72.075000    5.800000   13.275000    1.400000    6.000000   \n",
       "50%      0.000000   83.500000   11.300000   33.100000    3.500000   12.250000   \n",
       "75%      0.500000   88.300000   20.750000   68.150000    7.300000   22.525000   \n",
       "max     16.800000   96.000000   65.900000  220.400000   19.000000   68.000000   \n",
       "\n",
       "              FWI     Classes      Region  \n",
       "count  244.000000  244.000000  244.000000  \n",
       "mean     7.006967    0.565574    0.500000  \n",
       "std      7.438505    0.496700    0.501028  \n",
       "min      0.000000    0.000000    0.000000  \n",
       "25%      0.700000    0.000000    0.000000  \n",
       "50%      4.200000    1.000000    0.500000  \n",
       "75%     11.375000    1.000000    1.000000  \n",
       "max     31.100000    1.000000    1.000000  "
      ]
     },
     "execution_count": 280,
     "metadata": {},
     "output_type": "execute_result"
    }
   ],
   "source": [
    "df.describe()"
   ]
  },
  {
   "cell_type": "code",
   "execution_count": null,
   "id": "fee413c9",
   "metadata": {},
   "outputs": [],
   "source": []
  },
  {
   "cell_type": "markdown",
   "id": "bf8ad48c",
   "metadata": {},
   "source": [
    "## In order to get the correlation of the data we are just remoiving the features which are not much useful in correaltion, day, month , year"
   ]
  },
  {
   "cell_type": "code",
   "execution_count": 285,
   "id": "23be742a",
   "metadata": {},
   "outputs": [],
   "source": [
    "df_final = df[[fea for fea in df.columns if fea not in ['day','month','year']]]"
   ]
  },
  {
   "cell_type": "code",
   "execution_count": 286,
   "id": "f63bb0c4",
   "metadata": {},
   "outputs": [
    {
     "data": {
      "text/html": [
       "<div>\n",
       "<style scoped>\n",
       "    .dataframe tbody tr th:only-of-type {\n",
       "        vertical-align: middle;\n",
       "    }\n",
       "\n",
       "    .dataframe tbody tr th {\n",
       "        vertical-align: top;\n",
       "    }\n",
       "\n",
       "    .dataframe thead th {\n",
       "        text-align: right;\n",
       "    }\n",
       "</style>\n",
       "<table border=\"1\" class=\"dataframe\">\n",
       "  <thead>\n",
       "    <tr style=\"text-align: right;\">\n",
       "      <th></th>\n",
       "      <th>Temperature</th>\n",
       "      <th>RH</th>\n",
       "      <th>Ws</th>\n",
       "      <th>Rain</th>\n",
       "      <th>FFMC</th>\n",
       "      <th>DMC</th>\n",
       "      <th>DC</th>\n",
       "      <th>ISI</th>\n",
       "      <th>BUI</th>\n",
       "      <th>FWI</th>\n",
       "      <th>Classes</th>\n",
       "      <th>Region</th>\n",
       "    </tr>\n",
       "  </thead>\n",
       "  <tbody>\n",
       "    <tr>\n",
       "      <th>Temperature</th>\n",
       "      <td>1.000000</td>\n",
       "      <td>-0.654443</td>\n",
       "      <td>-0.278132</td>\n",
       "      <td>-0.326786</td>\n",
       "      <td>0.677491</td>\n",
       "      <td>0.483105</td>\n",
       "      <td>0.370511</td>\n",
       "      <td>0.607551</td>\n",
       "      <td>0.455504</td>\n",
       "      <td>0.558373</td>\n",
       "      <td>0.518119</td>\n",
       "      <td>0.273496</td>\n",
       "    </tr>\n",
       "    <tr>\n",
       "      <th>RH</th>\n",
       "      <td>-0.654443</td>\n",
       "      <td>1.000000</td>\n",
       "      <td>0.236084</td>\n",
       "      <td>0.222968</td>\n",
       "      <td>-0.645658</td>\n",
       "      <td>-0.405133</td>\n",
       "      <td>-0.220344</td>\n",
       "      <td>-0.690637</td>\n",
       "      <td>-0.348587</td>\n",
       "      <td>-0.569937</td>\n",
       "      <td>-0.435023</td>\n",
       "      <td>-0.406424</td>\n",
       "    </tr>\n",
       "    <tr>\n",
       "      <th>Ws</th>\n",
       "      <td>-0.278132</td>\n",
       "      <td>0.236084</td>\n",
       "      <td>1.000000</td>\n",
       "      <td>0.170169</td>\n",
       "      <td>-0.163255</td>\n",
       "      <td>-0.001246</td>\n",
       "      <td>0.076253</td>\n",
       "      <td>0.015248</td>\n",
       "      <td>0.029756</td>\n",
       "      <td>0.028810</td>\n",
       "      <td>-0.066529</td>\n",
       "      <td>-0.176829</td>\n",
       "    </tr>\n",
       "    <tr>\n",
       "      <th>Rain</th>\n",
       "      <td>-0.326786</td>\n",
       "      <td>0.222968</td>\n",
       "      <td>0.170169</td>\n",
       "      <td>1.000000</td>\n",
       "      <td>-0.544045</td>\n",
       "      <td>-0.288548</td>\n",
       "      <td>-0.296808</td>\n",
       "      <td>-0.347105</td>\n",
       "      <td>-0.299171</td>\n",
       "      <td>-0.322720</td>\n",
       "      <td>-0.379449</td>\n",
       "      <td>-0.041080</td>\n",
       "    </tr>\n",
       "    <tr>\n",
       "      <th>FFMC</th>\n",
       "      <td>0.677491</td>\n",
       "      <td>-0.645658</td>\n",
       "      <td>-0.163255</td>\n",
       "      <td>-0.544045</td>\n",
       "      <td>1.000000</td>\n",
       "      <td>0.602391</td>\n",
       "      <td>0.503919</td>\n",
       "      <td>0.739730</td>\n",
       "      <td>0.589652</td>\n",
       "      <td>0.685915</td>\n",
       "      <td>0.770114</td>\n",
       "      <td>0.224680</td>\n",
       "    </tr>\n",
       "    <tr>\n",
       "      <th>DMC</th>\n",
       "      <td>0.483105</td>\n",
       "      <td>-0.405133</td>\n",
       "      <td>-0.001246</td>\n",
       "      <td>-0.288548</td>\n",
       "      <td>0.602391</td>\n",
       "      <td>1.000000</td>\n",
       "      <td>0.875362</td>\n",
       "      <td>0.674499</td>\n",
       "      <td>0.982073</td>\n",
       "      <td>0.874762</td>\n",
       "      <td>0.584188</td>\n",
       "      <td>0.191094</td>\n",
       "    </tr>\n",
       "    <tr>\n",
       "      <th>DC</th>\n",
       "      <td>0.370511</td>\n",
       "      <td>-0.220344</td>\n",
       "      <td>0.076253</td>\n",
       "      <td>-0.296808</td>\n",
       "      <td>0.503919</td>\n",
       "      <td>0.875362</td>\n",
       "      <td>1.000000</td>\n",
       "      <td>0.498926</td>\n",
       "      <td>0.941906</td>\n",
       "      <td>0.740177</td>\n",
       "      <td>0.507132</td>\n",
       "      <td>-0.081482</td>\n",
       "    </tr>\n",
       "    <tr>\n",
       "      <th>ISI</th>\n",
       "      <td>0.607551</td>\n",
       "      <td>-0.690637</td>\n",
       "      <td>0.015248</td>\n",
       "      <td>-0.347105</td>\n",
       "      <td>0.739730</td>\n",
       "      <td>0.674499</td>\n",
       "      <td>0.498926</td>\n",
       "      <td>1.000000</td>\n",
       "      <td>0.635891</td>\n",
       "      <td>0.907446</td>\n",
       "      <td>0.735511</td>\n",
       "      <td>0.268421</td>\n",
       "    </tr>\n",
       "    <tr>\n",
       "      <th>BUI</th>\n",
       "      <td>0.455504</td>\n",
       "      <td>-0.348587</td>\n",
       "      <td>0.029756</td>\n",
       "      <td>-0.299171</td>\n",
       "      <td>0.589652</td>\n",
       "      <td>0.982073</td>\n",
       "      <td>0.941906</td>\n",
       "      <td>0.635891</td>\n",
       "      <td>1.000000</td>\n",
       "      <td>0.857756</td>\n",
       "      <td>0.583882</td>\n",
       "      <td>0.087370</td>\n",
       "    </tr>\n",
       "    <tr>\n",
       "      <th>FWI</th>\n",
       "      <td>0.558373</td>\n",
       "      <td>-0.569937</td>\n",
       "      <td>0.028810</td>\n",
       "      <td>-0.322720</td>\n",
       "      <td>0.685915</td>\n",
       "      <td>0.874762</td>\n",
       "      <td>0.740177</td>\n",
       "      <td>0.907446</td>\n",
       "      <td>0.857756</td>\n",
       "      <td>1.000000</td>\n",
       "      <td>0.713331</td>\n",
       "      <td>0.192517</td>\n",
       "    </tr>\n",
       "    <tr>\n",
       "      <th>Classes</th>\n",
       "      <td>0.518119</td>\n",
       "      <td>-0.435023</td>\n",
       "      <td>-0.066529</td>\n",
       "      <td>-0.379449</td>\n",
       "      <td>0.770114</td>\n",
       "      <td>0.584188</td>\n",
       "      <td>0.507132</td>\n",
       "      <td>0.735511</td>\n",
       "      <td>0.583882</td>\n",
       "      <td>0.713331</td>\n",
       "      <td>1.000000</td>\n",
       "      <td>0.165363</td>\n",
       "    </tr>\n",
       "    <tr>\n",
       "      <th>Region</th>\n",
       "      <td>0.273496</td>\n",
       "      <td>-0.406424</td>\n",
       "      <td>-0.176829</td>\n",
       "      <td>-0.041080</td>\n",
       "      <td>0.224680</td>\n",
       "      <td>0.191094</td>\n",
       "      <td>-0.081482</td>\n",
       "      <td>0.268421</td>\n",
       "      <td>0.087370</td>\n",
       "      <td>0.192517</td>\n",
       "      <td>0.165363</td>\n",
       "      <td>1.000000</td>\n",
       "    </tr>\n",
       "  </tbody>\n",
       "</table>\n",
       "</div>"
      ],
      "text/plain": [
       "             Temperature        RH        Ws      Rain      FFMC       DMC  \\\n",
       "Temperature     1.000000 -0.654443 -0.278132 -0.326786  0.677491  0.483105   \n",
       "RH             -0.654443  1.000000  0.236084  0.222968 -0.645658 -0.405133   \n",
       "Ws             -0.278132  0.236084  1.000000  0.170169 -0.163255 -0.001246   \n",
       "Rain           -0.326786  0.222968  0.170169  1.000000 -0.544045 -0.288548   \n",
       "FFMC            0.677491 -0.645658 -0.163255 -0.544045  1.000000  0.602391   \n",
       "DMC             0.483105 -0.405133 -0.001246 -0.288548  0.602391  1.000000   \n",
       "DC              0.370511 -0.220344  0.076253 -0.296808  0.503919  0.875362   \n",
       "ISI             0.607551 -0.690637  0.015248 -0.347105  0.739730  0.674499   \n",
       "BUI             0.455504 -0.348587  0.029756 -0.299171  0.589652  0.982073   \n",
       "FWI             0.558373 -0.569937  0.028810 -0.322720  0.685915  0.874762   \n",
       "Classes         0.518119 -0.435023 -0.066529 -0.379449  0.770114  0.584188   \n",
       "Region          0.273496 -0.406424 -0.176829 -0.041080  0.224680  0.191094   \n",
       "\n",
       "                   DC       ISI       BUI       FWI   Classes    Region  \n",
       "Temperature  0.370511  0.607551  0.455504  0.558373  0.518119  0.273496  \n",
       "RH          -0.220344 -0.690637 -0.348587 -0.569937 -0.435023 -0.406424  \n",
       "Ws           0.076253  0.015248  0.029756  0.028810 -0.066529 -0.176829  \n",
       "Rain        -0.296808 -0.347105 -0.299171 -0.322720 -0.379449 -0.041080  \n",
       "FFMC         0.503919  0.739730  0.589652  0.685915  0.770114  0.224680  \n",
       "DMC          0.875362  0.674499  0.982073  0.874762  0.584188  0.191094  \n",
       "DC           1.000000  0.498926  0.941906  0.740177  0.507132 -0.081482  \n",
       "ISI          0.498926  1.000000  0.635891  0.907446  0.735511  0.268421  \n",
       "BUI          0.941906  0.635891  1.000000  0.857756  0.583882  0.087370  \n",
       "FWI          0.740177  0.907446  0.857756  1.000000  0.713331  0.192517  \n",
       "Classes      0.507132  0.735511  0.583882  0.713331  1.000000  0.165363  \n",
       "Region      -0.081482  0.268421  0.087370  0.192517  0.165363  1.000000  "
      ]
     },
     "execution_count": 286,
     "metadata": {},
     "output_type": "execute_result"
    }
   ],
   "source": [
    "df_final.corr()"
   ]
  },
  {
   "cell_type": "code",
   "execution_count": null,
   "id": "96e7ba77",
   "metadata": {},
   "outputs": [],
   "source": []
  },
  {
   "cell_type": "code",
   "execution_count": 287,
   "id": "5a22c100",
   "metadata": {},
   "outputs": [
    {
     "data": {
      "text/plain": [
       "<AxesSubplot:>"
      ]
     },
     "execution_count": 287,
     "metadata": {},
     "output_type": "execute_result"
    },
    {
     "data": {
      "image/png": "[encoded data removed]",
      "text/plain": [
       "<Figure size 720x576 with 2 Axes>"
      ]
     },
     "metadata": {},
     "output_type": "display_data"
    }
   ],
   "source": [
    "sns.set(rc = {'figure.figsize':(10,8)})\n",
    "sns.heatmap(df_final.corr(), annot = True)"
   ]
  },
  {
   "cell_type": "markdown",
   "id": "4ec430a7",
   "metadata": {},
   "source": [
    "## Here our target variable is Temperature based on the task, hence lets try to find out some relation based on our independent features\n",
    "\n",
    "### FFMC have +ve high relation with Temperature irrespective of all other independent features."
   ]
  },
  {
   "cell_type": "code",
   "execution_count": null,
   "id": "9661fb7e",
   "metadata": {},
   "outputs": [],
   "source": []
  },
  {
   "cell_type": "code",
   "execution_count": 453,
   "id": "33a724bb",
   "metadata": {},
   "outputs": [
    {
     "data": {
      "text/plain": [
       "<matplotlib.collections.PathCollection at 0x1871ca94850>"
      ]
     },
     "execution_count": 453,
     "metadata": {},
     "output_type": "execute_result"
    },
    {
     "data": {
      "image/png": "[encoded data removed]",
      "text/plain": [
       "<Figure size 720x576 with 1 Axes>"
      ]
     },
     "metadata": {},
     "output_type": "display_data"
    }
   ],
   "source": [
    "plt.scatter(df_final['FFMC'],df_final['Temperature'])"
   ]
  },
  {
   "cell_type": "code",
   "execution_count": 454,
   "id": "fe32e80e",
   "metadata": {},
   "outputs": [
    {
     "data": {
      "text/plain": [
       "<AxesSubplot:xlabel='FFMC', ylabel='Temperature'>"
      ]
     },
     "execution_count": 454,
     "metadata": {},
     "output_type": "execute_result"
    },
    {
     "data": {
      "image/png": "[encoded data removed]",
      "text/plain": [
       "<Figure size 720x576 with 1 Axes>"
      ]
     },
     "metadata": {},
     "output_type": "display_data"
    }
   ],
   "source": [
    "sns.regplot(x ='FFMC',y='Temperature', data = df_final)"
   ]
  },
  {
   "cell_type": "code",
   "execution_count": null,
   "id": "b2c605af",
   "metadata": {},
   "outputs": [],
   "source": []
  },
  {
   "cell_type": "code",
   "execution_count": 288,
   "id": "1c361d0b",
   "metadata": {},
   "outputs": [
    {
     "data": {
      "text/plain": [
       "<matplotlib.collections.PathCollection at 0x1871543d7f0>"
      ]
     },
     "execution_count": 288,
     "metadata": {},
     "output_type": "execute_result"
    },
    {
     "data": {
      "image/png": "[encoded data removed]",
      "text/plain": [
       "<Figure size 720x576 with 1 Axes>"
      ]
     },
     "metadata": {},
     "output_type": "display_data"
    }
   ],
   "source": [
    "plt.scatter(df_final['Rain'],df_final['Temperature'])"
   ]
  },
  {
   "cell_type": "code",
   "execution_count": 290,
   "id": "dd2fb95e",
   "metadata": {},
   "outputs": [
    {
     "data": {
      "text/plain": [
       "<AxesSubplot:xlabel='Rain', ylabel='Temperature'>"
      ]
     },
     "execution_count": 290,
     "metadata": {},
     "output_type": "execute_result"
    },
    {
     "data": {
      "image/png": "[encoded data removed]",
      "text/plain": [
       "<Figure size 720x576 with 1 Axes>"
      ]
     },
     "metadata": {},
     "output_type": "display_data"
    }
   ],
   "source": [
    "sns.regplot(x ='Rain',y='Temperature', data = df_final)"
   ]
  },
  {
   "cell_type": "markdown",
   "id": "f5874255",
   "metadata": {},
   "source": [
    "##Observation: If rain is more then the temperature will be less, then if rain is less temperature will be more"
   ]
  },
  {
   "cell_type": "code",
   "execution_count": 292,
   "id": "8dcc2e94",
   "metadata": {},
   "outputs": [
    {
     "name": "stderr",
     "output_type": "stream",
     "text": [
      "C:\\Users\\dchakrab.COMPUTACENTER\\Anaconda3\\lib\\site-packages\\seaborn\\_decorators.py:36: FutureWarning: Pass the following variable as a keyword arg: x. From version 0.12, the only valid positional argument will be `data`, and passing other arguments without an explicit keyword will result in an error or misinterpretation.\n",
      "  warnings.warn(\n"
     ]
    },
    {
     "data": {
      "text/plain": [
       "<AxesSubplot:xlabel='Temperature'>"
      ]
     },
     "execution_count": 292,
     "metadata": {},
     "output_type": "execute_result"
    },
    {
     "data": {
      "image/png": "[encoded data removed]",
      "text/plain": [
       "<Figure size 720x576 with 1 Axes>"
      ]
     },
     "metadata": {},
     "output_type": "display_data"
    }
   ],
   "source": [
    "sns.boxplot(df_final['Temperature'])"
   ]
  },
  {
   "cell_type": "code",
   "execution_count": 293,
   "id": "c9da9381",
   "metadata": {},
   "outputs": [
    {
     "name": "stderr",
     "output_type": "stream",
     "text": [
      "C:\\Users\\dchakrab.COMPUTACENTER\\Anaconda3\\lib\\site-packages\\seaborn\\_decorators.py:36: FutureWarning: Pass the following variable as a keyword arg: x. From version 0.12, the only valid positional argument will be `data`, and passing other arguments without an explicit keyword will result in an error or misinterpretation.\n",
      "  warnings.warn(\n"
     ]
    },
    {
     "data": {
      "text/plain": [
       "<AxesSubplot:xlabel='Rain'>"
      ]
     },
     "execution_count": 293,
     "metadata": {},
     "output_type": "execute_result"
    },
    {
     "data": {
      "image/png": "[encoded data removed]",
      "text/plain": [
       "<Figure size 720x576 with 1 Axes>"
      ]
     },
     "metadata": {},
     "output_type": "display_data"
    }
   ],
   "source": [
    "sns.boxplot(df_final['Rain'])"
   ]
  },
  {
   "cell_type": "markdown",
   "id": "c6716631",
   "metadata": {},
   "source": [
    "## We have Outliers under Rain feature"
   ]
  },
  {
   "cell_type": "code",
   "execution_count": 294,
   "id": "f3d072fd",
   "metadata": {},
   "outputs": [],
   "source": [
    "## Independent and Dependent feature"
   ]
  },
  {
   "cell_type": "code",
   "execution_count": 349,
   "id": "0084e765",
   "metadata": {},
   "outputs": [],
   "source": [
    "Y = df_final.iloc[:,:1]\n",
    "X = df_final.iloc[:,1:]"
   ]
  },
  {
   "cell_type": "code",
   "execution_count": 350,
   "id": "e58f5dbd",
   "metadata": {},
   "outputs": [
    {
     "data": {
      "text/html": [
       "<div>\n",
       "<style scoped>\n",
       "    .dataframe tbody tr th:only-of-type {\n",
       "        vertical-align: middle;\n",
       "    }\n",
       "\n",
       "    .dataframe tbody tr th {\n",
       "        vertical-align: top;\n",
       "    }\n",
       "\n",
       "    .dataframe thead th {\n",
       "        text-align: right;\n",
       "    }\n",
       "</style>\n",
       "<table border=\"1\" class=\"dataframe\">\n",
       "  <thead>\n",
       "    <tr style=\"text-align: right;\">\n",
       "      <th></th>\n",
       "      <th>Temperature</th>\n",
       "    </tr>\n",
       "  </thead>\n",
       "  <tbody>\n",
       "    <tr>\n",
       "      <th>0</th>\n",
       "      <td>29</td>\n",
       "    </tr>\n",
       "    <tr>\n",
       "      <th>1</th>\n",
       "      <td>29</td>\n",
       "    </tr>\n",
       "    <tr>\n",
       "      <th>2</th>\n",
       "      <td>26</td>\n",
       "    </tr>\n",
       "    <tr>\n",
       "      <th>3</th>\n",
       "      <td>25</td>\n",
       "    </tr>\n",
       "    <tr>\n",
       "      <th>4</th>\n",
       "      <td>27</td>\n",
       "    </tr>\n",
       "  </tbody>\n",
       "</table>\n",
       "</div>"
      ],
      "text/plain": [
       "   Temperature\n",
       "0           29\n",
       "1           29\n",
       "2           26\n",
       "3           25\n",
       "4           27"
      ]
     },
     "execution_count": 350,
     "metadata": {},
     "output_type": "execute_result"
    }
   ],
   "source": [
    "Y.head()"
   ]
  },
  {
   "cell_type": "code",
   "execution_count": 351,
   "id": "e98f71fd",
   "metadata": {},
   "outputs": [
    {
     "data": {
      "text/html": [
       "<div>\n",
       "<style scoped>\n",
       "    .dataframe tbody tr th:only-of-type {\n",
       "        vertical-align: middle;\n",
       "    }\n",
       "\n",
       "    .dataframe tbody tr th {\n",
       "        vertical-align: top;\n",
       "    }\n",
       "\n",
       "    .dataframe thead th {\n",
       "        text-align: right;\n",
       "    }\n",
       "</style>\n",
       "<table border=\"1\" class=\"dataframe\">\n",
       "  <thead>\n",
       "    <tr style=\"text-align: right;\">\n",
       "      <th></th>\n",
       "      <th>RH</th>\n",
       "      <th>Ws</th>\n",
       "      <th>Rain</th>\n",
       "      <th>FFMC</th>\n",
       "      <th>DMC</th>\n",
       "      <th>DC</th>\n",
       "      <th>ISI</th>\n",
       "      <th>BUI</th>\n",
       "      <th>FWI</th>\n",
       "      <th>Classes</th>\n",
       "      <th>Region</th>\n",
       "    </tr>\n",
       "  </thead>\n",
       "  <tbody>\n",
       "    <tr>\n",
       "      <th>0</th>\n",
       "      <td>57</td>\n",
       "      <td>18</td>\n",
       "      <td>0.0</td>\n",
       "      <td>65.7</td>\n",
       "      <td>3.4</td>\n",
       "      <td>7.6</td>\n",
       "      <td>1.3</td>\n",
       "      <td>3.4</td>\n",
       "      <td>0.5</td>\n",
       "      <td>0</td>\n",
       "      <td>0.0</td>\n",
       "    </tr>\n",
       "    <tr>\n",
       "      <th>1</th>\n",
       "      <td>61</td>\n",
       "      <td>13</td>\n",
       "      <td>1.3</td>\n",
       "      <td>64.4</td>\n",
       "      <td>4.1</td>\n",
       "      <td>7.6</td>\n",
       "      <td>1.0</td>\n",
       "      <td>3.9</td>\n",
       "      <td>0.4</td>\n",
       "      <td>0</td>\n",
       "      <td>0.0</td>\n",
       "    </tr>\n",
       "    <tr>\n",
       "      <th>2</th>\n",
       "      <td>82</td>\n",
       "      <td>22</td>\n",
       "      <td>13.1</td>\n",
       "      <td>47.1</td>\n",
       "      <td>2.5</td>\n",
       "      <td>7.1</td>\n",
       "      <td>0.3</td>\n",
       "      <td>2.7</td>\n",
       "      <td>0.1</td>\n",
       "      <td>0</td>\n",
       "      <td>0.0</td>\n",
       "    </tr>\n",
       "    <tr>\n",
       "      <th>3</th>\n",
       "      <td>89</td>\n",
       "      <td>13</td>\n",
       "      <td>2.5</td>\n",
       "      <td>28.6</td>\n",
       "      <td>1.3</td>\n",
       "      <td>6.9</td>\n",
       "      <td>0.0</td>\n",
       "      <td>1.7</td>\n",
       "      <td>0.0</td>\n",
       "      <td>0</td>\n",
       "      <td>0.0</td>\n",
       "    </tr>\n",
       "    <tr>\n",
       "      <th>4</th>\n",
       "      <td>77</td>\n",
       "      <td>16</td>\n",
       "      <td>0.0</td>\n",
       "      <td>64.8</td>\n",
       "      <td>3.0</td>\n",
       "      <td>14.2</td>\n",
       "      <td>1.2</td>\n",
       "      <td>3.9</td>\n",
       "      <td>0.5</td>\n",
       "      <td>0</td>\n",
       "      <td>0.0</td>\n",
       "    </tr>\n",
       "  </tbody>\n",
       "</table>\n",
       "</div>"
      ],
      "text/plain": [
       "   RH  Ws  Rain  FFMC  DMC    DC  ISI  BUI  FWI  Classes  Region\n",
       "0  57  18   0.0  65.7  3.4   7.6  1.3  3.4  0.5        0     0.0\n",
       "1  61  13   1.3  64.4  4.1   7.6  1.0  3.9  0.4        0     0.0\n",
       "2  82  22  13.1  47.1  2.5   7.1  0.3  2.7  0.1        0     0.0\n",
       "3  89  13   2.5  28.6  1.3   6.9  0.0  1.7  0.0        0     0.0\n",
       "4  77  16   0.0  64.8  3.0  14.2  1.2  3.9  0.5        0     0.0"
      ]
     },
     "execution_count": 351,
     "metadata": {},
     "output_type": "execute_result"
    }
   ],
   "source": [
    "X.head()"
   ]
  },
  {
   "cell_type": "code",
   "execution_count": 352,
   "id": "849871c9",
   "metadata": {},
   "outputs": [],
   "source": [
    "from sklearn.model_selection import train_test_split"
   ]
  },
  {
   "cell_type": "code",
   "execution_count": 353,
   "id": "3a7200a8",
   "metadata": {},
   "outputs": [],
   "source": [
    "X_train, X_test, y_train, y_test = train_test_split(\n",
    "    X, Y, test_size=0.30, random_state=10)"
   ]
  },
  {
   "cell_type": "code",
   "execution_count": 354,
   "id": "294df951",
   "metadata": {},
   "outputs": [
    {
     "data": {
      "text/html": [
       "<div>\n",
       "<style scoped>\n",
       "    .dataframe tbody tr th:only-of-type {\n",
       "        vertical-align: middle;\n",
       "    }\n",
       "\n",
       "    .dataframe tbody tr th {\n",
       "        vertical-align: top;\n",
       "    }\n",
       "\n",
       "    .dataframe thead th {\n",
       "        text-align: right;\n",
       "    }\n",
       "</style>\n",
       "<table border=\"1\" class=\"dataframe\">\n",
       "  <thead>\n",
       "    <tr style=\"text-align: right;\">\n",
       "      <th></th>\n",
       "      <th>RH</th>\n",
       "      <th>Ws</th>\n",
       "      <th>Rain</th>\n",
       "      <th>FFMC</th>\n",
       "      <th>DMC</th>\n",
       "      <th>DC</th>\n",
       "      <th>ISI</th>\n",
       "      <th>BUI</th>\n",
       "      <th>FWI</th>\n",
       "      <th>Classes</th>\n",
       "      <th>Region</th>\n",
       "    </tr>\n",
       "  </thead>\n",
       "  <tbody>\n",
       "    <tr>\n",
       "      <th>39</th>\n",
       "      <td>69</td>\n",
       "      <td>13</td>\n",
       "      <td>0.7</td>\n",
       "      <td>66.6</td>\n",
       "      <td>6.0</td>\n",
       "      <td>9.3</td>\n",
       "      <td>1.1</td>\n",
       "      <td>5.8</td>\n",
       "      <td>0.5</td>\n",
       "      <td>0</td>\n",
       "      <td>0.0</td>\n",
       "    </tr>\n",
       "    <tr>\n",
       "      <th>87</th>\n",
       "      <td>82</td>\n",
       "      <td>21</td>\n",
       "      <td>0.0</td>\n",
       "      <td>84.9</td>\n",
       "      <td>47.0</td>\n",
       "      <td>200.2</td>\n",
       "      <td>4.4</td>\n",
       "      <td>59.3</td>\n",
       "      <td>13.2</td>\n",
       "      <td>1</td>\n",
       "      <td>0.0</td>\n",
       "    </tr>\n",
       "    <tr>\n",
       "      <th>169</th>\n",
       "      <td>68</td>\n",
       "      <td>15</td>\n",
       "      <td>0.0</td>\n",
       "      <td>86.1</td>\n",
       "      <td>23.9</td>\n",
       "      <td>51.6</td>\n",
       "      <td>5.2</td>\n",
       "      <td>23.9</td>\n",
       "      <td>9.1</td>\n",
       "      <td>1</td>\n",
       "      <td>1.0</td>\n",
       "    </tr>\n",
       "    <tr>\n",
       "      <th>232</th>\n",
       "      <td>41</td>\n",
       "      <td>8</td>\n",
       "      <td>0.1</td>\n",
       "      <td>83.9</td>\n",
       "      <td>24.9</td>\n",
       "      <td>86.0</td>\n",
       "      <td>2.7</td>\n",
       "      <td>28.9</td>\n",
       "      <td>5.6</td>\n",
       "      <td>1</td>\n",
       "      <td>1.0</td>\n",
       "    </tr>\n",
       "    <tr>\n",
       "      <th>144</th>\n",
       "      <td>59</td>\n",
       "      <td>16</td>\n",
       "      <td>0.8</td>\n",
       "      <td>74.2</td>\n",
       "      <td>7.0</td>\n",
       "      <td>8.3</td>\n",
       "      <td>1.6</td>\n",
       "      <td>6.7</td>\n",
       "      <td>0.8</td>\n",
       "      <td>0</td>\n",
       "      <td>1.0</td>\n",
       "    </tr>\n",
       "    <tr>\n",
       "      <th>...</th>\n",
       "      <td>...</td>\n",
       "      <td>...</td>\n",
       "      <td>...</td>\n",
       "      <td>...</td>\n",
       "      <td>...</td>\n",
       "      <td>...</td>\n",
       "      <td>...</td>\n",
       "      <td>...</td>\n",
       "      <td>...</td>\n",
       "      <td>...</td>\n",
       "      <td>...</td>\n",
       "    </tr>\n",
       "    <tr>\n",
       "      <th>64</th>\n",
       "      <td>69</td>\n",
       "      <td>13</td>\n",
       "      <td>0.0</td>\n",
       "      <td>85.0</td>\n",
       "      <td>8.2</td>\n",
       "      <td>19.8</td>\n",
       "      <td>4.0</td>\n",
       "      <td>8.2</td>\n",
       "      <td>3.9</td>\n",
       "      <td>1</td>\n",
       "      <td>0.0</td>\n",
       "    </tr>\n",
       "    <tr>\n",
       "      <th>15</th>\n",
       "      <td>89</td>\n",
       "      <td>13</td>\n",
       "      <td>0.7</td>\n",
       "      <td>36.1</td>\n",
       "      <td>1.7</td>\n",
       "      <td>7.6</td>\n",
       "      <td>0.0</td>\n",
       "      <td>2.2</td>\n",
       "      <td>0.0</td>\n",
       "      <td>0</td>\n",
       "      <td>0.0</td>\n",
       "    </tr>\n",
       "    <tr>\n",
       "      <th>228</th>\n",
       "      <td>51</td>\n",
       "      <td>13</td>\n",
       "      <td>0.0</td>\n",
       "      <td>88.7</td>\n",
       "      <td>16.0</td>\n",
       "      <td>50.2</td>\n",
       "      <td>6.9</td>\n",
       "      <td>17.8</td>\n",
       "      <td>9.8</td>\n",
       "      <td>1</td>\n",
       "      <td>1.0</td>\n",
       "    </tr>\n",
       "    <tr>\n",
       "      <th>125</th>\n",
       "      <td>64</td>\n",
       "      <td>14</td>\n",
       "      <td>0.0</td>\n",
       "      <td>79.4</td>\n",
       "      <td>5.2</td>\n",
       "      <td>15.4</td>\n",
       "      <td>2.2</td>\n",
       "      <td>5.6</td>\n",
       "      <td>1.0</td>\n",
       "      <td>0</td>\n",
       "      <td>1.0</td>\n",
       "    </tr>\n",
       "    <tr>\n",
       "      <th>9</th>\n",
       "      <td>79</td>\n",
       "      <td>12</td>\n",
       "      <td>0.0</td>\n",
       "      <td>73.2</td>\n",
       "      <td>9.5</td>\n",
       "      <td>46.3</td>\n",
       "      <td>1.3</td>\n",
       "      <td>12.6</td>\n",
       "      <td>0.9</td>\n",
       "      <td>0</td>\n",
       "      <td>0.0</td>\n",
       "    </tr>\n",
       "  </tbody>\n",
       "</table>\n",
       "<p>170 rows × 11 columns</p>\n",
       "</div>"
      ],
      "text/plain": [
       "     RH  Ws  Rain  FFMC   DMC     DC  ISI   BUI   FWI  Classes  Region\n",
       "39   69  13   0.7  66.6   6.0    9.3  1.1   5.8   0.5        0     0.0\n",
       "87   82  21   0.0  84.9  47.0  200.2  4.4  59.3  13.2        1     0.0\n",
       "169  68  15   0.0  86.1  23.9   51.6  5.2  23.9   9.1        1     1.0\n",
       "232  41   8   0.1  83.9  24.9   86.0  2.7  28.9   5.6        1     1.0\n",
       "144  59  16   0.8  74.2   7.0    8.3  1.6   6.7   0.8        0     1.0\n",
       "..   ..  ..   ...   ...   ...    ...  ...   ...   ...      ...     ...\n",
       "64   69  13   0.0  85.0   8.2   19.8  4.0   8.2   3.9        1     0.0\n",
       "15   89  13   0.7  36.1   1.7    7.6  0.0   2.2   0.0        0     0.0\n",
       "228  51  13   0.0  88.7  16.0   50.2  6.9  17.8   9.8        1     1.0\n",
       "125  64  14   0.0  79.4   5.2   15.4  2.2   5.6   1.0        0     1.0\n",
       "9    79  12   0.0  73.2   9.5   46.3  1.3  12.6   0.9        0     0.0\n",
       "\n",
       "[170 rows x 11 columns]"
      ]
     },
     "execution_count": 354,
     "metadata": {},
     "output_type": "execute_result"
    }
   ],
   "source": [
    "X_train"
   ]
  },
  {
   "cell_type": "code",
   "execution_count": 355,
   "id": "d540d0a3",
   "metadata": {},
   "outputs": [
    {
     "data": {
      "text/html": [
       "<div>\n",
       "<style scoped>\n",
       "    .dataframe tbody tr th:only-of-type {\n",
       "        vertical-align: middle;\n",
       "    }\n",
       "\n",
       "    .dataframe tbody tr th {\n",
       "        vertical-align: top;\n",
       "    }\n",
       "\n",
       "    .dataframe thead th {\n",
       "        text-align: right;\n",
       "    }\n",
       "</style>\n",
       "<table border=\"1\" class=\"dataframe\">\n",
       "  <thead>\n",
       "    <tr style=\"text-align: right;\">\n",
       "      <th></th>\n",
       "      <th>Temperature</th>\n",
       "    </tr>\n",
       "  </thead>\n",
       "  <tbody>\n",
       "    <tr>\n",
       "      <th>39</th>\n",
       "      <td>33</td>\n",
       "    </tr>\n",
       "    <tr>\n",
       "      <th>87</th>\n",
       "      <td>33</td>\n",
       "    </tr>\n",
       "    <tr>\n",
       "      <th>169</th>\n",
       "      <td>33</td>\n",
       "    </tr>\n",
       "    <tr>\n",
       "      <th>232</th>\n",
       "      <td>29</td>\n",
       "    </tr>\n",
       "    <tr>\n",
       "      <th>144</th>\n",
       "      <td>33</td>\n",
       "    </tr>\n",
       "    <tr>\n",
       "      <th>...</th>\n",
       "      <td>...</td>\n",
       "    </tr>\n",
       "    <tr>\n",
       "      <th>64</th>\n",
       "      <td>34</td>\n",
       "    </tr>\n",
       "    <tr>\n",
       "      <th>15</th>\n",
       "      <td>29</td>\n",
       "    </tr>\n",
       "    <tr>\n",
       "      <th>228</th>\n",
       "      <td>32</td>\n",
       "    </tr>\n",
       "    <tr>\n",
       "      <th>125</th>\n",
       "      <td>30</td>\n",
       "    </tr>\n",
       "    <tr>\n",
       "      <th>9</th>\n",
       "      <td>28</td>\n",
       "    </tr>\n",
       "  </tbody>\n",
       "</table>\n",
       "<p>170 rows × 1 columns</p>\n",
       "</div>"
      ],
      "text/plain": [
       "     Temperature\n",
       "39            33\n",
       "87            33\n",
       "169           33\n",
       "232           29\n",
       "144           33\n",
       "..           ...\n",
       "64            34\n",
       "15            29\n",
       "228           32\n",
       "125           30\n",
       "9             28\n",
       "\n",
       "[170 rows x 1 columns]"
      ]
     },
     "execution_count": 355,
     "metadata": {},
     "output_type": "execute_result"
    }
   ],
   "source": [
    "y_train"
   ]
  },
  {
   "cell_type": "code",
   "execution_count": 356,
   "id": "42f55a43",
   "metadata": {},
   "outputs": [
    {
     "data": {
      "text/html": [
       "<div>\n",
       "<style scoped>\n",
       "    .dataframe tbody tr th:only-of-type {\n",
       "        vertical-align: middle;\n",
       "    }\n",
       "\n",
       "    .dataframe tbody tr th {\n",
       "        vertical-align: top;\n",
       "    }\n",
       "\n",
       "    .dataframe thead th {\n",
       "        text-align: right;\n",
       "    }\n",
       "</style>\n",
       "<table border=\"1\" class=\"dataframe\">\n",
       "  <thead>\n",
       "    <tr style=\"text-align: right;\">\n",
       "      <th></th>\n",
       "      <th>RH</th>\n",
       "      <th>Ws</th>\n",
       "      <th>Rain</th>\n",
       "      <th>FFMC</th>\n",
       "      <th>DMC</th>\n",
       "      <th>DC</th>\n",
       "      <th>ISI</th>\n",
       "      <th>BUI</th>\n",
       "      <th>FWI</th>\n",
       "      <th>Classes</th>\n",
       "      <th>Region</th>\n",
       "    </tr>\n",
       "  </thead>\n",
       "  <tbody>\n",
       "    <tr>\n",
       "      <th>162</th>\n",
       "      <td>56</td>\n",
       "      <td>15</td>\n",
       "      <td>2.9</td>\n",
       "      <td>74.8</td>\n",
       "      <td>7.1</td>\n",
       "      <td>9.5</td>\n",
       "      <td>1.6</td>\n",
       "      <td>6.8</td>\n",
       "      <td>0.8</td>\n",
       "      <td>0</td>\n",
       "      <td>1.0</td>\n",
       "    </tr>\n",
       "    <tr>\n",
       "      <th>60</th>\n",
       "      <td>64</td>\n",
       "      <td>17</td>\n",
       "      <td>0.0</td>\n",
       "      <td>87.2</td>\n",
       "      <td>31.9</td>\n",
       "      <td>145.7</td>\n",
       "      <td>6.8</td>\n",
       "      <td>41.2</td>\n",
       "      <td>15.7</td>\n",
       "      <td>1</td>\n",
       "      <td>0.0</td>\n",
       "    </tr>\n",
       "    <tr>\n",
       "      <th>61</th>\n",
       "      <td>45</td>\n",
       "      <td>14</td>\n",
       "      <td>0.0</td>\n",
       "      <td>78.8</td>\n",
       "      <td>4.8</td>\n",
       "      <td>10.2</td>\n",
       "      <td>2.0</td>\n",
       "      <td>4.7</td>\n",
       "      <td>0.9</td>\n",
       "      <td>0</td>\n",
       "      <td>0.0</td>\n",
       "    </tr>\n",
       "    <tr>\n",
       "      <th>63</th>\n",
       "      <td>63</td>\n",
       "      <td>14</td>\n",
       "      <td>0.3</td>\n",
       "      <td>76.6</td>\n",
       "      <td>5.7</td>\n",
       "      <td>10.0</td>\n",
       "      <td>1.7</td>\n",
       "      <td>5.5</td>\n",
       "      <td>0.8</td>\n",
       "      <td>0</td>\n",
       "      <td>0.0</td>\n",
       "    </tr>\n",
       "    <tr>\n",
       "      <th>69</th>\n",
       "      <td>59</td>\n",
       "      <td>17</td>\n",
       "      <td>0.0</td>\n",
       "      <td>87.4</td>\n",
       "      <td>14.8</td>\n",
       "      <td>57.0</td>\n",
       "      <td>6.9</td>\n",
       "      <td>17.9</td>\n",
       "      <td>9.9</td>\n",
       "      <td>1</td>\n",
       "      <td>0.0</td>\n",
       "    </tr>\n",
       "    <tr>\n",
       "      <th>...</th>\n",
       "      <td>...</td>\n",
       "      <td>...</td>\n",
       "      <td>...</td>\n",
       "      <td>...</td>\n",
       "      <td>...</td>\n",
       "      <td>...</td>\n",
       "      <td>...</td>\n",
       "      <td>...</td>\n",
       "      <td>...</td>\n",
       "      <td>...</td>\n",
       "      <td>...</td>\n",
       "    </tr>\n",
       "    <tr>\n",
       "      <th>142</th>\n",
       "      <td>55</td>\n",
       "      <td>14</td>\n",
       "      <td>0.0</td>\n",
       "      <td>86.2</td>\n",
       "      <td>8.3</td>\n",
       "      <td>18.4</td>\n",
       "      <td>5.0</td>\n",
       "      <td>8.2</td>\n",
       "      <td>4.9</td>\n",
       "      <td>1</td>\n",
       "      <td>1.0</td>\n",
       "    </tr>\n",
       "    <tr>\n",
       "      <th>32</th>\n",
       "      <td>76</td>\n",
       "      <td>20</td>\n",
       "      <td>0.7</td>\n",
       "      <td>63.1</td>\n",
       "      <td>2.6</td>\n",
       "      <td>9.2</td>\n",
       "      <td>1.3</td>\n",
       "      <td>3.0</td>\n",
       "      <td>0.5</td>\n",
       "      <td>0</td>\n",
       "      <td>0.0</td>\n",
       "    </tr>\n",
       "    <tr>\n",
       "      <th>242</th>\n",
       "      <td>54</td>\n",
       "      <td>18</td>\n",
       "      <td>0.1</td>\n",
       "      <td>79.7</td>\n",
       "      <td>4.3</td>\n",
       "      <td>15.2</td>\n",
       "      <td>1.7</td>\n",
       "      <td>5.1</td>\n",
       "      <td>0.7</td>\n",
       "      <td>0</td>\n",
       "      <td>1.0</td>\n",
       "    </tr>\n",
       "    <tr>\n",
       "      <th>7</th>\n",
       "      <td>73</td>\n",
       "      <td>15</td>\n",
       "      <td>0.0</td>\n",
       "      <td>86.6</td>\n",
       "      <td>12.1</td>\n",
       "      <td>38.3</td>\n",
       "      <td>5.6</td>\n",
       "      <td>13.5</td>\n",
       "      <td>7.1</td>\n",
       "      <td>1</td>\n",
       "      <td>0.0</td>\n",
       "    </tr>\n",
       "    <tr>\n",
       "      <th>243</th>\n",
       "      <td>64</td>\n",
       "      <td>15</td>\n",
       "      <td>0.2</td>\n",
       "      <td>67.3</td>\n",
       "      <td>3.8</td>\n",
       "      <td>16.5</td>\n",
       "      <td>1.2</td>\n",
       "      <td>4.8</td>\n",
       "      <td>0.5</td>\n",
       "      <td>0</td>\n",
       "      <td>1.0</td>\n",
       "    </tr>\n",
       "  </tbody>\n",
       "</table>\n",
       "<p>74 rows × 11 columns</p>\n",
       "</div>"
      ],
      "text/plain": [
       "     RH  Ws  Rain  FFMC   DMC     DC  ISI   BUI   FWI  Classes  Region\n",
       "162  56  15   2.9  74.8   7.1    9.5  1.6   6.8   0.8        0     1.0\n",
       "60   64  17   0.0  87.2  31.9  145.7  6.8  41.2  15.7        1     0.0\n",
       "61   45  14   0.0  78.8   4.8   10.2  2.0   4.7   0.9        0     0.0\n",
       "63   63  14   0.3  76.6   5.7   10.0  1.7   5.5   0.8        0     0.0\n",
       "69   59  17   0.0  87.4  14.8   57.0  6.9  17.9   9.9        1     0.0\n",
       "..   ..  ..   ...   ...   ...    ...  ...   ...   ...      ...     ...\n",
       "142  55  14   0.0  86.2   8.3   18.4  5.0   8.2   4.9        1     1.0\n",
       "32   76  20   0.7  63.1   2.6    9.2  1.3   3.0   0.5        0     0.0\n",
       "242  54  18   0.1  79.7   4.3   15.2  1.7   5.1   0.7        0     1.0\n",
       "7    73  15   0.0  86.6  12.1   38.3  5.6  13.5   7.1        1     0.0\n",
       "243  64  15   0.2  67.3   3.8   16.5  1.2   4.8   0.5        0     1.0\n",
       "\n",
       "[74 rows x 11 columns]"
      ]
     },
     "execution_count": 356,
     "metadata": {},
     "output_type": "execute_result"
    }
   ],
   "source": [
    "X_test"
   ]
  },
  {
   "cell_type": "code",
   "execution_count": 357,
   "id": "c33838ce",
   "metadata": {},
   "outputs": [
    {
     "data": {
      "text/html": [
       "<div>\n",
       "<style scoped>\n",
       "    .dataframe tbody tr th:only-of-type {\n",
       "        vertical-align: middle;\n",
       "    }\n",
       "\n",
       "    .dataframe tbody tr th {\n",
       "        vertical-align: top;\n",
       "    }\n",
       "\n",
       "    .dataframe thead th {\n",
       "        text-align: right;\n",
       "    }\n",
       "</style>\n",
       "<table border=\"1\" class=\"dataframe\">\n",
       "  <thead>\n",
       "    <tr style=\"text-align: right;\">\n",
       "      <th></th>\n",
       "      <th>Temperature</th>\n",
       "    </tr>\n",
       "  </thead>\n",
       "  <tbody>\n",
       "    <tr>\n",
       "      <th>162</th>\n",
       "      <td>34</td>\n",
       "    </tr>\n",
       "    <tr>\n",
       "      <th>60</th>\n",
       "      <td>35</td>\n",
       "    </tr>\n",
       "    <tr>\n",
       "      <th>61</th>\n",
       "      <td>36</td>\n",
       "    </tr>\n",
       "    <tr>\n",
       "      <th>63</th>\n",
       "      <td>35</td>\n",
       "    </tr>\n",
       "    <tr>\n",
       "      <th>69</th>\n",
       "      <td>35</td>\n",
       "    </tr>\n",
       "    <tr>\n",
       "      <th>...</th>\n",
       "      <td>...</td>\n",
       "    </tr>\n",
       "    <tr>\n",
       "      <th>142</th>\n",
       "      <td>32</td>\n",
       "    </tr>\n",
       "    <tr>\n",
       "      <th>32</th>\n",
       "      <td>32</td>\n",
       "    </tr>\n",
       "    <tr>\n",
       "      <th>242</th>\n",
       "      <td>24</td>\n",
       "    </tr>\n",
       "    <tr>\n",
       "      <th>7</th>\n",
       "      <td>30</td>\n",
       "    </tr>\n",
       "    <tr>\n",
       "      <th>243</th>\n",
       "      <td>24</td>\n",
       "    </tr>\n",
       "  </tbody>\n",
       "</table>\n",
       "<p>74 rows × 1 columns</p>\n",
       "</div>"
      ],
      "text/plain": [
       "     Temperature\n",
       "162           34\n",
       "60            35\n",
       "61            36\n",
       "63            35\n",
       "69            35\n",
       "..           ...\n",
       "142           32\n",
       "32            32\n",
       "242           24\n",
       "7             30\n",
       "243           24\n",
       "\n",
       "[74 rows x 1 columns]"
      ]
     },
     "execution_count": 357,
     "metadata": {},
     "output_type": "execute_result"
    }
   ],
   "source": [
    "y_test"
   ]
  },
  {
   "cell_type": "markdown",
   "id": "35d270dc",
   "metadata": {},
   "source": [
    "##  Standardize or feature scaling the dataset"
   ]
  },
  {
   "cell_type": "code",
   "execution_count": 358,
   "id": "ddad0f58",
   "metadata": {},
   "outputs": [],
   "source": [
    "from sklearn.preprocessing import StandardScaler"
   ]
  },
  {
   "cell_type": "code",
   "execution_count": 359,
   "id": "ce9387f8",
   "metadata": {},
   "outputs": [],
   "source": [
    "scaler=StandardScaler()"
   ]
  },
  {
   "cell_type": "code",
   "execution_count": 360,
   "id": "fdf72490",
   "metadata": {},
   "outputs": [],
   "source": [
    "X_train = scaler.fit_transform(X_train)\n",
    "X_test = scaler.transform(X_test)"
   ]
  },
  {
   "cell_type": "code",
   "execution_count": 361,
   "id": "1de7339f",
   "metadata": {},
   "outputs": [
    {
     "data": {
      "text/plain": [
       "array([[ 0.46820243, -0.79034424,  0.00333488, ..., -0.83803219,\n",
       "        -1.07326545, -1.02381286],\n",
       "       [ 1.32761054,  1.95867921, -0.43761068, ...,  0.81430708,\n",
       "         0.93173594, -1.02381286],\n",
       "       [ 0.40209411, -0.10308838, -0.43761068, ...,  0.28087472,\n",
       "         0.93173594,  0.976741  ],\n",
       "       ...,\n",
       "       [-0.72174726, -0.79034424, -0.43761068, ...,  0.37194853,\n",
       "         0.93173594,  0.976741  ],\n",
       "       [ 0.13766085, -0.44671631, -0.43761068, ..., -0.77297946,\n",
       "        -1.07326545,  0.976741  ],\n",
       "       [ 1.12928559, -1.13397218, -0.43761068, ..., -0.78599001,\n",
       "        -1.07326545, -1.02381286]])"
      ]
     },
     "execution_count": 361,
     "metadata": {},
     "output_type": "execute_result"
    }
   ],
   "source": [
    "X_train"
   ]
  },
  {
   "cell_type": "code",
   "execution_count": 362,
   "id": "821177b5",
   "metadata": {},
   "outputs": [
    {
     "data": {
      "text/plain": [
       "array([[-3.91205683e-01, -1.03088380e-01,  1.38916380e+00,\n",
       "        -1.79797624e-01, -6.05979086e-01, -8.16430403e-01,\n",
       "        -7.28424722e-01, -6.81393900e-01, -7.99000552e-01,\n",
       "        -1.07326545e+00,  9.76741004e-01],\n",
       "       [ 1.37660847e-01,  5.84167484e-01, -4.37610682e-01,\n",
       "         6.68107054e-01,  1.28591060e+00,  1.94334844e+00,\n",
       "         5.01383250e-01,  1.61902841e+00,  1.13957071e+00,\n",
       "         9.31735943e-01, -1.02381286e+00],\n",
       "       [-1.11839716e+00, -4.46716311e-01, -4.37610682e-01,\n",
       "         9.37200143e-02, -7.81436597e-01, -8.02246518e-01,\n",
       "        -6.33824109e-01, -8.21826657e-01, -7.85990007e-01,\n",
       "        -1.07326545e+00, -1.02381286e+00],\n",
       "       [ 7.15525305e-02, -4.46716311e-01, -2.48634012e-01,\n",
       "        -5.67146867e-02, -7.12779310e-01, -8.06299056e-01,\n",
       "        -7.04774569e-01, -7.68328464e-01, -7.99000552e-01,\n",
       "        -1.07326545e+00, -1.02381286e+00],\n",
       "       [-1.92880734e-01,  5.84167484e-01, -4.37610682e-01,\n",
       "         6.81782936e-01, -1.85778541e-02,  1.46047535e-01,\n",
       "         5.25033404e-01,  6.08935318e-02,  3.84959078e-01,\n",
       "         9.31735943e-01, -1.02381286e+00],\n",
       "       [-5.89530632e-01,  2.40539552e-01, -4.37610682e-01,\n",
       "         8.25379696e-01,  1.72074008e+00,  2.26349900e+00,\n",
       "         1.35278877e+00,  2.04032668e+00,  1.99826671e+00,\n",
       "         9.31735943e-01, -1.02381286e+00],\n",
       "       [-5.89530632e-01,  1.27142335e+00, -4.37610682e-01,\n",
       "         8.04865874e-01,  1.56879657e-01,  9.88975581e-01,\n",
       "         1.25818816e+00,  4.62129981e-01,  1.08752853e+00,\n",
       "         9.31735943e-01, -1.02381286e+00],\n",
       "       [-5.89530632e-01,  5.84167484e-01, -1.22649565e-01,\n",
       "         1.89451188e-01,  4.31508804e-01,  2.01426787e+00,\n",
       "        -4.68273036e-01,  9.10177350e-01, -1.35462737e-01,\n",
       "         9.31735943e-01,  9.76741004e-01],\n",
       "       [ 5.34310744e-01, -4.46716311e-01, -4.37610682e-01,\n",
       "         3.67237652e-01, -4.30521575e-01, -3.17968145e-01,\n",
       "        -3.50022269e-01, -3.93841111e-01, -4.34705281e-01,\n",
       "         9.31735943e-01, -1.02381286e+00],\n",
       "       [ 7.15525305e-02, -4.46716311e-01, -4.37610682e-01,\n",
       "         6.54431173e-01, -3.16092764e-01, -2.59206334e-01,\n",
       "         2.17581411e-01, -3.00219273e-01, -1.83678288e-02,\n",
       "         9.31735943e-01, -1.02381286e+00],\n",
       "       [-3.91205683e-01,  2.40539552e-01, -4.37610682e-01,\n",
       "         7.84352051e-01,  6.67995014e-01,  1.48073804e-01,\n",
       "         8.32485397e-01,  4.55442707e-01,  8.14307076e-01,\n",
       "         9.31735943e-01,  9.76741004e-01],\n",
       "       [ 9.97068958e-01,  1.95867921e+00,  6.96249342e-01,\n",
       "        -1.29438200e+00, -1.00266563e+00, -8.38719366e-01,\n",
       "        -8.46675489e-01, -9.75633963e-01, -8.64053279e-01,\n",
       "        -1.07326545e+00, -1.02381286e+00],\n",
       "       [-1.84558864e+00,  2.40539552e-01, -3.11626235e-01,\n",
       "         7.43324405e-01,  1.41622482e-01, -9.50785172e-02,\n",
       "         6.66934324e-01,  3.41444351e-02,  4.63022351e-01,\n",
       "         9.31735943e-01,  9.76741004e-01],\n",
       "       [ 6.00419061e-01, -4.46716311e-01,  3.65688385e+00,\n",
       "        -8.84105542e-01, -8.95865408e-01, -8.24535480e-01,\n",
       "        -8.70325642e-01, -9.02073947e-01, -8.51042733e-01,\n",
       "        -1.07326545e+00,  9.76741004e-01],\n",
       "       [-9.86180530e-01,  9.27795416e-01,  3.34192273e+00,\n",
       "         2.30478833e-01, -4.00007225e-01, -8.12377864e-01,\n",
       "        -3.73672422e-01, -5.07524772e-01, -5.12768553e-01,\n",
       "         9.31735943e-01,  9.76741004e-01],\n",
       "       [ 5.34310744e-01,  2.40539552e-01, -4.37610682e-01,\n",
       "         5.86051763e-01, -1.71149603e-01, -4.90201039e-01,\n",
       "         1.70281104e-01, -2.86844725e-01, -3.13783742e-02,\n",
       "         9.31735943e-01,  9.76741004e-01],\n",
       "       [-5.23422316e-01, -1.47760011e+00, -3.74618459e-01,\n",
       "         4.28779121e-01, -5.06807449e-01, -4.76017154e-01,\n",
       "        -3.73672422e-01, -5.14212046e-01, -4.99758008e-01,\n",
       "         9.31735943e-01,  9.76741004e-01],\n",
       "       [ 1.06317727e+00, -4.46716311e-01,  4.44280447e-01,\n",
       "        -2.21750403e+00, -1.00266563e+00, -8.56955790e-01,\n",
       "        -1.05952687e+00, -9.75633963e-01, -8.90074370e-01,\n",
       "        -1.07326545e+00, -1.02381286e+00],\n",
       "       [-1.77948032e+00, -1.03088380e-01, -4.37610682e-01,\n",
       "         1.11941116e+00,  6.06966315e-01, -1.43708981e-01,\n",
       "         2.60624690e+00,  3.95257240e-01,  1.81611907e+00,\n",
       "         9.31735943e-01,  9.76741004e-01],\n",
       "       [-7.87855581e-01,  2.40539552e-01, -4.37610682e-01,\n",
       "         8.52731460e-01,  1.34693930e+00,  4.29725243e-01,\n",
       "         1.13993739e+00,  1.04392283e+00,  1.34773944e+00,\n",
       "         9.31735943e-01,  9.76741004e-01],\n",
       "       [ 2.03769163e-01, -4.46716311e-01, -4.37610682e-01,\n",
       "         4.83482649e-01, -1.94035365e-01,  9.13382623e-02,\n",
       "        -1.60821043e-01, -7.95392256e-02, -1.74494373e-01,\n",
       "         9.31735943e-01, -1.02381286e+00],\n",
       "       [-1.92880734e-01,  1.27142335e+00, -4.37610682e-01,\n",
       "         7.98027933e-01,  9.73138511e-01,  2.39925904e+00,\n",
       "         1.21088785e+00,  1.49197020e+00,  1.62096089e+00,\n",
       "         9.31735943e-01,  9.76741004e-01],\n",
       "       [-5.89530632e-01,  9.27795416e-01, -4.37610682e-01,\n",
       "         7.91189992e-01,  5.00166091e-01,  6.18168291e-01,\n",
       "         1.06898693e+00,  5.89188191e-01,  1.04849689e+00,\n",
       "         9.31735943e-01, -1.02381286e+00],\n",
       "       [ 5.44421428e-03,  2.40539552e-01, -4.37610682e-01,\n",
       "         7.09134700e-01,  1.11108132e-01, -3.09863067e-01,\n",
       "         5.48683557e-01, -3.94155806e-02,  3.32916897e-01,\n",
       "         9.31735943e-01,  9.76741004e-01],\n",
       "       [-1.91169696e+00,  5.84167484e-01, -4.37610682e-01,\n",
       "         1.11257322e+00,  1.56879657e-01, -3.58493532e-01,\n",
       "         2.96099920e+00, -5.97920984e-03,  1.63397144e+00,\n",
       "         9.31735943e-01,  9.76741004e-01],\n",
       "       [ 1.85647707e+00, -1.03088380e-01, -4.37610682e-01,\n",
       "        -7.26832900e-01, -5.98350499e-01, -7.11064397e-01,\n",
       "        -8.23025335e-01, -6.61332078e-01, -8.25021643e-01,\n",
       "        -1.07326545e+00,  9.76741004e-01],\n",
       "       [-6.06641020e-02,  9.27795416e-01, -2.48634012e-01,\n",
       "         1.89451188e-01, -2.55064064e-01,  8.22821495e-01,\n",
       "        -4.44622882e-01,  4.08317093e-02, -3.56642009e-01,\n",
       "         9.31735943e-01, -1.02381286e+00],\n",
       "       [-9.86180530e-01, -4.46716311e-01,  3.33488242e-03,\n",
       "         4.82678185e-03, -6.05979086e-01, -8.30614288e-01,\n",
       "        -6.81124415e-01, -6.81393900e-01, -7.85990007e-01,\n",
       "        -1.07326545e+00, -1.02381286e+00],\n",
       "       [ 1.19539391e+00,  2.40539552e-01,  6.96249342e-01,\n",
       "        -2.05339345e+00, -9.26379758e-01, -8.52903251e-01,\n",
       "        -1.03587672e+00, -9.35510318e-01, -8.90074370e-01,\n",
       "        -1.07326545e+00, -1.02381286e+00],\n",
       "       [ 1.12928559e+00, -1.03088380e-01, -4.37610682e-01,\n",
       "         5.45024117e-01,  1.02653862e+00,  1.74680032e+00,\n",
       "         4.73003066e-03,  1.36491199e+00,  4.89043441e-01,\n",
       "         9.31735943e-01, -1.02381286e+00],\n",
       "       [ 1.26150222e+00,  1.95867921e+00,  3.21593828e+00,\n",
       "        -1.97133815e+00, -9.18751170e-01, -8.52903251e-01,\n",
       "        -1.01222656e+00, -9.35510318e-01, -8.90074370e-01,\n",
       "        -1.07326545e+00, -1.02381286e+00],\n",
       "       [ 1.59204380e+00,  2.40539552e-01, -4.37610682e-01,\n",
       "        -2.70299784e+00, -1.07895151e+00, -8.42771905e-01,\n",
       "        -1.08317702e+00, -1.04250670e+00, -8.90074370e-01,\n",
       "        -1.07326545e+00,  9.76741004e-01],\n",
       "       [-5.23422316e-01, -7.90344243e-01, -4.37610682e-01,\n",
       "         7.36486464e-01, -3.92378638e-01, -3.90913841e-01,\n",
       "         4.06782637e-01, -4.07215660e-01,  3.36743528e-02,\n",
       "         9.31735943e-01, -1.02381286e+00],\n",
       "       [-7.21747265e-01,  2.40539552e-01,  1.95609381e+00,\n",
       "         4.82678185e-03, -5.37321799e-01, -8.16430403e-01,\n",
       "        -6.33824109e-01, -6.21208433e-01, -7.33947825e-01,\n",
       "        -1.07326545e+00,  9.76741004e-01],\n",
       "       [ 1.37660847e-01, -1.03088380e-01, -4.37610682e-01,\n",
       "         6.33917350e-01, -6.43493786e-02,  2.83833850e-01,\n",
       "         2.41231564e-01,  8.76426284e-02,  1.89800897e-01,\n",
       "         9.31735943e-01, -1.02381286e+00],\n",
       "       [ 3.35985796e-01,  1.27142335e+00, -4.37610682e-01,\n",
       "        -1.38769978e-01, -9.26379758e-01, -6.78644088e-01,\n",
       "        -6.33824109e-01, -8.68637577e-01, -7.99000552e-01,\n",
       "        -1.07326545e+00,  9.76741004e-01],\n",
       "       [ 1.19539391e+00,  2.40539552e-01, -1.85641788e-01,\n",
       "        -1.20548877e+00, -8.88236821e-01, -4.59806999e-01,\n",
       "        -8.93975795e-01, -7.95077561e-01, -8.51042733e-01,\n",
       "        -1.07326545e+00, -1.02381286e+00],\n",
       "       [ 5.44421428e-03, -1.03088380e-01, -4.37610682e-01,\n",
       "         4.01427357e-01, -7.05150722e-01, -6.50276317e-01,\n",
       "        -2.08121349e-01, -7.08142997e-01, -4.86747463e-01,\n",
       "         9.31735943e-01,  9.76741004e-01],\n",
       "       [ 1.32761054e+00, -1.03088380e-01, -1.85641788e-01,\n",
       "        -2.22434197e+00, -1.07895151e+00, -8.61008329e-01,\n",
       "        -1.05952687e+00, -1.04250670e+00, -9.03084915e-01,\n",
       "        -1.07326545e+00, -1.02381286e+00],\n",
       "       [-9.20072213e-01, -7.90344243e-01, -4.37610682e-01,\n",
       "         8.80083224e-01,  5.45937615e-01,  1.18957625e+00,\n",
       "         9.50736163e-01,  8.29930060e-01,  1.08752853e+00,\n",
       "         9.31735943e-01, -1.02381286e+00],\n",
       "       [ 4.02094112e-01,  1.27142335e+00, -4.37610682e-01,\n",
       "         7.43324405e-01,  8.28195350e-01,  1.63738177e+00,\n",
       "         9.74386317e-01,  1.18435559e+00,  1.28268671e+00,\n",
       "         9.31735943e-01, -1.02381286e+00],\n",
       "       [-4.57314000e-01, -1.03088380e-01, -4.37610682e-01,\n",
       "         8.11703814e-01,  1.01128145e+00,  3.52727008e-01,\n",
       "         8.56135550e-01,  7.56370045e-01,  9.83444166e-01,\n",
       "         9.31735943e-01,  9.76741004e-01],\n",
       "       [-1.31672211e+00,  1.95867921e+00, -4.37610682e-01,\n",
       "         9.00597047e-01,  2.40794118e-01, -3.90913841e-01,\n",
       "         2.06229337e+00,  6.75808059e-02,  1.26967616e+00,\n",
       "         9.31735943e-01,  9.76741004e-01],\n",
       "       [ 8.64852326e-01,  2.40539552e-01, -4.37610682e-01,\n",
       "         3.26210007e-01, -8.11950946e-01, -5.16542540e-01,\n",
       "        -3.26372116e-01, -7.34892093e-01, -5.77821280e-01,\n",
       "         9.31735943e-01,  9.76741004e-01],\n",
       "       [-1.38283043e+00, -1.82122804e+00, -3.74618459e-01,\n",
       "         9.96328220e-01,  5.76451965e-01,  3.10175351e-01,\n",
       "         1.13993739e+00,  4.82191804e-01,  1.02247580e+00,\n",
       "         9.31735943e-01,  9.76741004e-01],\n",
       "       [-4.57314000e-01, -4.46716311e-01, -4.37610682e-01,\n",
       "         7.84352051e-01,  2.71308468e-01,  3.48674469e-01,\n",
       "         6.43284170e-01,  3.28384498e-01,  6.06138350e-01,\n",
       "         9.31735943e-01, -1.02381286e+00],\n",
       "       [ 1.19539391e+00,  1.95867921e+00,  1.01450829e+01,\n",
       "        -1.70465846e+00, -4.83921687e-01, -8.32640558e-01,\n",
       "        -9.64926255e-01, -5.81084788e-01, -8.64053279e-01,\n",
       "        -1.07326545e+00, -1.02381286e+00],\n",
       "       [-1.18450548e+00, -7.90344243e-01, -4.37610682e-01,\n",
       "         8.66407342e-01, -1.86406777e-01, -6.15829738e-01,\n",
       "         8.56135550e-01, -3.00219273e-01,  3.45927442e-01,\n",
       "         9.31735943e-01,  9.76741004e-01],\n",
       "       [-4.57314000e-01, -1.03088380e-01, -4.37610682e-01,\n",
       "         7.98027933e-01,  4.46765979e-01, -1.31551365e-01,\n",
       "         7.85185090e-01,  2.54824482e-01,  6.58180531e-01,\n",
       "         9.31735943e-01,  9.76741004e-01],\n",
       "       [ 1.72426044e+00, -7.90344243e-01, -4.37610682e-01,\n",
       "        -4.39639380e-01, -9.49265520e-01, -6.72565280e-01,\n",
       "        -8.23025335e-01, -8.88699399e-01, -8.38032188e-01,\n",
       "        -1.07326545e+00, -1.02381286e+00],\n",
       "       [ 1.06317727e+00, -4.46716311e-01, -4.37610682e-01,\n",
       "         2.44154715e-01, -6.67007785e-01, -3.68624878e-01,\n",
       "        -4.91923189e-01, -5.74397514e-01, -6.16852917e-01,\n",
       "         9.31735943e-01, -1.02381286e+00],\n",
       "       [ 4.02094112e-01, -4.46716311e-01, -4.37610682e-01,\n",
       "         5.45024117e-01, -2.24549715e-01, -1.35603904e-01,\n",
       "        -1.89201227e-02, -1.86535612e-01, -1.22452192e-01,\n",
       "         9.31735943e-01, -1.02381286e+00],\n",
       "       [-1.25061379e+00,  2.40539552e-01, -4.37610682e-01,\n",
       "         9.41624693e-01,  2.36917001e+00,  1.78124689e+00,\n",
       "         1.61294046e+00,  2.22088309e+00,  2.28449870e+00,\n",
       "         9.31735943e-01,  9.76741004e-01],\n",
       "       [ 3.35985796e-01, -4.46716311e-01, -4.37610682e-01,\n",
       "         3.53561771e-01, -7.05150722e-01, -5.59094197e-01,\n",
       "        -3.73672422e-01, -6.68019352e-01, -5.77821280e-01,\n",
       "         9.31735943e-01, -1.02381286e+00],\n",
       "       [ 1.45982717e+00,  9.27795416e-01, -4.37610682e-01,\n",
       "         4.35617062e-01, -1.17749491e-01, -9.97520478e-03,\n",
       "        -4.25702760e-02, -6.61646773e-02, -8.34205557e-02,\n",
       "         9.31735943e-01, -1.02381286e+00],\n",
       "       [ 6.00419061e-01,  5.84167484e-01, -2.48634012e-01,\n",
       "        -5.35370554e-01, -9.03493996e-01, -3.99018919e-01,\n",
       "        -7.52074875e-01, -7.95077561e-01, -8.25021643e-01,\n",
       "        -1.07326545e+00, -1.02381286e+00],\n",
       "       [ 2.69877479e-01, -1.03088380e-01, -3.74618459e-01,\n",
       "         3.60399711e-01,  1.34693930e+00,  9.52502733e-01,\n",
       "        -3.26372116e-01,  1.23785378e+00,  9.87270797e-02,\n",
       "         9.31735943e-01,  9.76741004e-01],\n",
       "       [-1.64726369e+00, -7.90344243e-01, -4.37610682e-01,\n",
       "         1.03051793e+00,  9.27366987e-01,  5.28391448e-02,\n",
       "         1.66024076e+00,  6.76122755e-01,  1.49085544e+00,\n",
       "         9.31735943e-01,  9.76741004e-01],\n",
       "       [ 7.15525305e-02,  5.84167484e-01,  2.55303777e-01,\n",
       "        -3.16556443e-01,  4.46765979e-01,  1.37942457e-01,\n",
       "        -7.28424722e-01,  3.15009950e-01, -5.77821280e-01,\n",
       "        -1.07326545e+00,  9.76741004e-01],\n",
       "       [-8.53963897e-01,  1.27142335e+00, -4.37610682e-01,\n",
       "         7.63838228e-01, -2.70321239e-01, -3.32152030e-01,\n",
       "         1.04533678e+00, -3.06906547e-01,  4.37001260e-01,\n",
       "         9.31735943e-01,  9.76741004e-01],\n",
       "       [ 2.03769163e-01, -1.03088380e-01, -3.74618459e-01,\n",
       "         2.71506479e-01, -2.09292540e-01,  2.49387271e-01,\n",
       "        -4.44622882e-01, -3.27283065e-02, -3.82663100e-01,\n",
       "         9.31735943e-01, -1.02381286e+00],\n",
       "       [ 7.32635693e-01, -1.03088380e-01, -4.37610682e-01,\n",
       "         6.27079409e-01,  8.89224050e-01,  1.56443607e+00,\n",
       "         2.17581411e-01,  1.20441741e+00,  6.45169986e-01,\n",
       "         9.31735943e-01, -1.02381286e+00],\n",
       "       [-6.06641020e-02, -7.90344243e-01,  3.81288224e-01,\n",
       "        -8.90943483e-01, -8.34836709e-01, -8.54929521e-01,\n",
       "        -8.70325642e-01, -8.75324851e-01, -8.51042733e-01,\n",
       "        -1.07326545e+00, -1.02381286e+00],\n",
       "       [ 1.32761054e+00,  2.30230714e+00,  7.81437060e+00,\n",
       "        -2.07390727e+00, -9.56894108e-01, -8.65060867e-01,\n",
       "        -1.03587672e+00, -9.55572141e-01, -8.90074370e-01,\n",
       "        -1.07326545e+00, -1.02381286e+00],\n",
       "       [-1.26772418e-01,  9.27795416e-01, -2.48634012e-01,\n",
       "        -2.25249820e-02, -2.85578414e-01, -5.65793997e-02,\n",
       "        -5.86523802e-01, -1.93222886e-01, -5.64810735e-01,\n",
       "        -1.07326545e+00, -1.02381286e+00],\n",
       "       [-1.84558864e+00, -4.46716311e-01, -4.37610682e-01,\n",
       "         1.08522145e+00, -3.23721351e-01, -5.75304351e-01,\n",
       "         2.15689398e+00, -4.27277482e-01,  8.53338712e-01,\n",
       "         9.31735943e-01,  9.76741004e-01],\n",
       "       [ 1.65815212e+00,  9.27795416e-01, -4.37610682e-01,\n",
       "         1.75775306e-01, -2.47435477e-01, -4.35491767e-01,\n",
       "        -4.44622882e-01, -3.47030192e-01, -4.86747463e-01,\n",
       "        -1.07326545e+00,  9.76741004e-01],\n",
       "       [ 2.69877479e-01,  2.30230714e+00, -1.85641788e-01,\n",
       "        -6.31101727e-01, -3.46607113e-01,  4.35804051e-01,\n",
       "        -6.81124415e-01, -1.06288322e-01, -6.29863462e-01,\n",
       "        -1.07326545e+00, -1.02381286e+00],\n",
       "       [-5.89530632e-01, -4.46716311e-01, -4.37610682e-01,\n",
       "         8.25379696e-01,  1.98774064e+00,  1.57456742e+00,\n",
       "         7.85185090e-01,  1.90658120e+00,  1.45182380e+00,\n",
       "         9.31735943e-01,  9.76741004e-01],\n",
       "       [-4.57314000e-01, -4.46716311e-01, -4.37610682e-01,\n",
       "         5.99727645e-01, -5.14436037e-01, -6.36092432e-01,\n",
       "         7.56804906e-02, -5.87772062e-01, -2.65568191e-01,\n",
       "         9.31735943e-01,  9.76741004e-01],\n",
       "       [ 9.30960642e-01,  1.61505128e+00,  3.33488242e-03,\n",
       "        -9.79836716e-01, -9.49265520e-01, -8.22509211e-01,\n",
       "        -7.99375182e-01, -9.35510318e-01, -8.38032188e-01,\n",
       "        -1.07326545e+00, -1.02381286e+00],\n",
       "       [-5.23422316e-01,  9.27795416e-01, -3.74618459e-01,\n",
       "         1.55261483e-01, -8.19579534e-01, -7.00933051e-01,\n",
       "        -7.04774569e-01, -7.95077561e-01, -8.12011097e-01,\n",
       "        -1.07326545e+00,  9.76741004e-01],\n",
       "       [ 7.32635693e-01, -1.03088380e-01, -4.37610682e-01,\n",
       "         6.27079409e-01, -2.24549715e-01, -2.32864832e-01,\n",
       "         2.17581411e-01, -2.33346531e-01,  2.06638074e-02,\n",
       "         9.31735943e-01, -1.02381286e+00],\n",
       "       [ 1.37660847e-01, -1.03088380e-01, -3.11626235e-01,\n",
       "        -6.92643195e-01, -8.57722471e-01, -6.74591549e-01,\n",
       "        -8.23025335e-01, -8.15139383e-01, -8.38032188e-01,\n",
       "        -1.07326545e+00,  9.76741004e-01]])"
      ]
     },
     "execution_count": 362,
     "metadata": {},
     "output_type": "execute_result"
    }
   ],
   "source": [
    "X_test"
   ]
  },
  {
   "cell_type": "code",
   "execution_count": null,
   "id": "87da5bea",
   "metadata": {},
   "outputs": [],
   "source": []
  },
  {
   "cell_type": "code",
   "execution_count": null,
   "id": "b03625dd",
   "metadata": {},
   "outputs": [],
   "source": [
    "##Model Training"
   ]
  },
  {
   "cell_type": "code",
   "execution_count": 363,
   "id": "e492b416",
   "metadata": {},
   "outputs": [],
   "source": [
    "from sklearn.linear_model import LinearRegression"
   ]
  },
  {
   "cell_type": "code",
   "execution_count": 364,
   "id": "5b0c4b1b",
   "metadata": {},
   "outputs": [],
   "source": [
    "regression=LinearRegression()"
   ]
  },
  {
   "cell_type": "code",
   "execution_count": 366,
   "id": "d7a494c4",
   "metadata": {},
   "outputs": [
    {
     "data": {
      "text/plain": [
       "LinearRegression()"
      ]
     },
     "execution_count": 366,
     "metadata": {},
     "output_type": "execute_result"
    }
   ],
   "source": [
    "regression.fit(X_train,y_train)"
   ]
  },
  {
   "cell_type": "code",
   "execution_count": 367,
   "id": "b18018fa",
   "metadata": {},
   "outputs": [
    {
     "name": "stdout",
     "output_type": "stream",
     "text": [
      "[[-0.9866291  -0.55868884 -0.3177714   1.05837864 -0.2834324   0.87131227\n",
      "   0.60687577 -0.19769614 -0.29606829 -0.04513606  0.26784727]]\n"
     ]
    }
   ],
   "source": [
    "print(regression.coef_)"
   ]
  },
  {
   "cell_type": "code",
   "execution_count": 368,
   "id": "45165095",
   "metadata": {},
   "outputs": [
    {
     "name": "stdout",
     "output_type": "stream",
     "text": [
      "[32.12352941]\n"
     ]
    }
   ],
   "source": [
    "print(regression.intercept_)"
   ]
  },
  {
   "cell_type": "markdown",
   "id": "e1aa06ac",
   "metadata": {},
   "source": [
    "## Prediction for the test data"
   ]
  },
  {
   "cell_type": "code",
   "execution_count": 369,
   "id": "e0a0aaca",
   "metadata": {},
   "outputs": [],
   "source": [
    "reg_pred=regression.predict(X_test)"
   ]
  },
  {
   "cell_type": "code",
   "execution_count": 370,
   "id": "cca4e948",
   "metadata": {},
   "outputs": [
    {
     "data": {
      "text/plain": [
       "array([[31.63502118],\n",
       "       [33.16683693],\n",
       "       [33.02202033],\n",
       "       [31.55593985],\n",
       "       [32.85696363],\n",
       "       [34.57762233],\n",
       "       [33.83694176],\n",
       "       [34.04659463],\n",
       "       [31.89651207],\n",
       "       [32.87850126],\n",
       "       [33.67765425],\n",
       "       [27.7167955 ],\n",
       "       [35.05328757],\n",
       "       [29.43061592],\n",
       "       [31.41062147],\n",
       "       [32.23159235],\n",
       "       [34.00962157],\n",
       "       [27.96113466],\n",
       "       [36.14877704],\n",
       "       [34.10665594],\n",
       "       [32.61091625],\n",
       "       [34.58141103],\n",
       "       [33.46567662],\n",
       "       [33.03365673],\n",
       "       [36.17699285],\n",
       "       [29.45488976],\n",
       "       [32.24518809],\n",
       "       [32.526453  ],\n",
       "       [27.52867589],\n",
       "       [32.28585608],\n",
       "       [25.80189704],\n",
       "       [27.39047204],\n",
       "       [33.77177731],\n",
       "       [31.79120305],\n",
       "       [32.87743148],\n",
       "       [31.07884303],\n",
       "       [29.0848157 ],\n",
       "       [32.7503098 ],\n",
       "       [27.73635352],\n",
       "       [35.19977505],\n",
       "       [32.79533958],\n",
       "       [33.949611  ],\n",
       "       [34.09357661],\n",
       "       [31.73808648],\n",
       "       [36.29909268],\n",
       "       [33.85014699],\n",
       "       [23.79282872],\n",
       "       [35.00211889],\n",
       "       [33.82557678],\n",
       "       [29.9192244 ],\n",
       "       [31.27084584],\n",
       "       [32.38314949],\n",
       "       [35.32220234],\n",
       "       [32.02767707],\n",
       "       [30.4853264 ],\n",
       "       [30.34481204],\n",
       "       [32.61104456],\n",
       "       [35.85531662],\n",
       "       [31.28075932],\n",
       "       [33.77568901],\n",
       "       [32.19674676],\n",
       "       [32.75875056],\n",
       "       [30.72358308],\n",
       "       [23.96471561],\n",
       "       [31.44076287],\n",
       "       [36.43248884],\n",
       "       [30.23792479],\n",
       "       [30.00835028],\n",
       "       [34.66523672],\n",
       "       [33.64999369],\n",
       "       [28.53915528],\n",
       "       [32.30648074],\n",
       "       [31.97755666],\n",
       "       [31.28642805]])"
      ]
     },
     "execution_count": 370,
     "metadata": {},
     "output_type": "execute_result"
    }
   ],
   "source": [
    "reg_pred"
   ]
  },
  {
   "cell_type": "code",
   "execution_count": 371,
   "id": "fd835e67",
   "metadata": {},
   "outputs": [
    {
     "data": {
      "text/plain": [
       "<matplotlib.collections.PathCollection at 0x18718fd2e20>"
      ]
     },
     "execution_count": 371,
     "metadata": {},
     "output_type": "execute_result"
    },
    {
     "data": {
      "image/png": "[encoded data removed]",
      "text/plain": [
       "<Figure size 720x576 with 1 Axes>"
      ]
     },
     "metadata": {},
     "output_type": "display_data"
    }
   ],
   "source": [
    "plt.scatter(y_test,reg_pred)"
   ]
  },
  {
   "cell_type": "code",
   "execution_count": 372,
   "id": "2c6cf606",
   "metadata": {},
   "outputs": [],
   "source": [
    "### residuals\n",
    "\n",
    "residuals = y_test-reg_pred"
   ]
  },
  {
   "cell_type": "code",
   "execution_count": 373,
   "id": "acb8c9c9",
   "metadata": {},
   "outputs": [
    {
     "name": "stderr",
     "output_type": "stream",
     "text": [
      "C:\\Users\\dchakrab.COMPUTACENTER\\Anaconda3\\lib\\site-packages\\seaborn\\distributions.py:2619: FutureWarning: `distplot` is a deprecated function and will be removed in a future version. Please adapt your code to use either `displot` (a figure-level function with similar flexibility) or `histplot` (an axes-level function for histograms).\n",
      "  warnings.warn(msg, FutureWarning)\n"
     ]
    },
    {
     "data": {
      "text/plain": [
       "<AxesSubplot:ylabel='Density'>"
      ]
     },
     "execution_count": 373,
     "metadata": {},
     "output_type": "execute_result"
    },
    {
     "data": {
      "image/png": "[encoded data removed]",
      "text/plain": [
       "<Figure size 720x576 with 1 Axes>"
      ]
     },
     "metadata": {},
     "output_type": "display_data"
    }
   ],
   "source": [
    "sns.distplot(residuals,kde=True)"
   ]
  },
  {
   "cell_type": "markdown",
   "id": "5470d52e",
   "metadata": {},
   "source": [
    "## Its a normal distribution with left sqewed bit"
   ]
  },
  {
   "cell_type": "code",
   "execution_count": null,
   "id": "e1bbeb00",
   "metadata": {},
   "outputs": [],
   "source": []
  },
  {
   "cell_type": "markdown",
   "id": "9687021a",
   "metadata": {},
   "source": [
    "## Scatter plot with predictions and residuals"
   ]
  },
  {
   "cell_type": "code",
   "execution_count": 374,
   "id": "b4f92a86",
   "metadata": {},
   "outputs": [
    {
     "data": {
      "text/plain": [
       "<matplotlib.collections.PathCollection at 0x18718cb5610>"
      ]
     },
     "execution_count": 374,
     "metadata": {},
     "output_type": "execute_result"
    },
    {
     "data": {
      "image/png": "[encoded data removed]",
      "text/plain": [
       "<Figure size 720x576 with 1 Axes>"
      ]
     },
     "metadata": {},
     "output_type": "display_data"
    }
   ],
   "source": [
    "plt.scatter(reg_pred, residuals)"
   ]
  },
  {
   "cell_type": "markdown",
   "id": "bb5e0a4b",
   "metadata": {},
   "source": [
    "##  Performance matrix"
   ]
  },
  {
   "cell_type": "code",
   "execution_count": 375,
   "id": "e6cae09b",
   "metadata": {},
   "outputs": [
    {
     "name": "stdout",
     "output_type": "stream",
     "text": [
      "6.967234176599206\n",
      "2.200636329732108\n",
      "2.639551889355314\n"
     ]
    }
   ],
   "source": [
    "from sklearn.metrics import mean_squared_error\n",
    "from sklearn.metrics import mean_absolute_error\n",
    "print(mean_squared_error(y_test, reg_pred))\n",
    "print(mean_absolute_error(y_test, reg_pred))\n",
    "print(np.sqrt(mean_squared_error(y_test, reg_pred)))"
   ]
  },
  {
   "cell_type": "code",
   "execution_count": 347,
   "id": "a8fd45e3",
   "metadata": {},
   "outputs": [],
   "source": [
    "## R2 value"
   ]
  },
  {
   "cell_type": "code",
   "execution_count": 378,
   "id": "f47db2da",
   "metadata": {},
   "outputs": [],
   "source": [
    "from sklearn.metrics import r2_score"
   ]
  },
  {
   "cell_type": "code",
   "execution_count": 380,
   "id": "0921b7c4",
   "metadata": {},
   "outputs": [
    {
     "data": {
      "text/plain": [
       "0.5342760177359009"
      ]
     },
     "execution_count": 380,
     "metadata": {},
     "output_type": "execute_result"
    }
   ],
   "source": [
    "r2_score(y_test,reg_pred)"
   ]
  },
  {
   "cell_type": "markdown",
   "id": "310b7521",
   "metadata": {},
   "source": [
    "## Model is 53% accurate\n",
    "## Adjusted R2 score value"
   ]
  },
  {
   "cell_type": "code",
   "execution_count": 383,
   "id": "bd7b4c0b",
   "metadata": {},
   "outputs": [
    {
     "name": "stdout",
     "output_type": "stream",
     "text": [
      "0.45164756926968974\n"
     ]
    }
   ],
   "source": [
    "print(1-(1-r2_score(y_test, reg_pred))*((len(X_test)-1)/(len(X_test)-len(X_test[0])-1)))"
   ]
  },
  {
   "cell_type": "markdown",
   "id": "32724e3e",
   "metadata": {},
   "source": [
    "## Model is 45% Accuarate"
   ]
  },
  {
   "cell_type": "code",
   "execution_count": null,
   "id": "7636d351",
   "metadata": {},
   "outputs": [],
   "source": []
  },
  {
   "cell_type": "code",
   "execution_count": null,
   "id": "891c7dd5",
   "metadata": {},
   "outputs": [],
   "source": []
  },
  {
   "cell_type": "markdown",
   "id": "6fbc5c14",
   "metadata": {},
   "source": [
    "## Ridge regression"
   ]
  },
  {
   "cell_type": "code",
   "execution_count": 385,
   "id": "23b59cc8",
   "metadata": {},
   "outputs": [],
   "source": [
    "from sklearn.linear_model import Ridge"
   ]
  },
  {
   "cell_type": "code",
   "execution_count": 386,
   "id": "eec0c001",
   "metadata": {},
   "outputs": [],
   "source": [
    "ridge = Ridge()"
   ]
  },
  {
   "cell_type": "code",
   "execution_count": 387,
   "id": "bf487af9",
   "metadata": {},
   "outputs": [
    {
     "data": {
      "text/plain": [
       "Ridge()"
      ]
     },
     "execution_count": 387,
     "metadata": {},
     "output_type": "execute_result"
    }
   ],
   "source": [
    "ridge.fit(X_train,y_train)"
   ]
  },
  {
   "cell_type": "code",
   "execution_count": 388,
   "id": "44d508b7",
   "metadata": {},
   "outputs": [
    {
     "name": "stdout",
     "output_type": "stream",
     "text": [
      "[[-0.98876056 -0.55514619 -0.32321226  1.04686527 -0.30254862  0.78875154\n",
      "   0.56411688 -0.11037359 -0.25421888 -0.03433455  0.25927849]]\n"
     ]
    }
   ],
   "source": [
    "print(ridge.coef_)"
   ]
  },
  {
   "cell_type": "code",
   "execution_count": 389,
   "id": "45d74eac",
   "metadata": {},
   "outputs": [
    {
     "name": "stdout",
     "output_type": "stream",
     "text": [
      "[32.12352941]\n"
     ]
    }
   ],
   "source": [
    "print(ridge.intercept_)"
   ]
  },
  {
   "cell_type": "code",
   "execution_count": 390,
   "id": "c5c43b28",
   "metadata": {},
   "outputs": [],
   "source": [
    "ridge_pred=ridge.predict(X_test)"
   ]
  },
  {
   "cell_type": "code",
   "execution_count": 391,
   "id": "d04098b4",
   "metadata": {},
   "outputs": [
    {
     "data": {
      "text/plain": [
       "array([[31.62723627],\n",
       "       [33.16474226],\n",
       "       [33.02492004],\n",
       "       [31.56319004],\n",
       "       [32.86008777],\n",
       "       [34.57562499],\n",
       "       [33.80207235],\n",
       "       [33.96938602],\n",
       "       [31.90764529],\n",
       "       [32.88160407],\n",
       "       [33.68764326],\n",
       "       [27.73316405],\n",
       "       [35.05188942],\n",
       "       [29.40610061],\n",
       "       [31.42178601],\n",
       "       [32.23873473],\n",
       "       [34.00344833],\n",
       "       [27.99035795],\n",
       "       [36.14273216],\n",
       "       [34.14103604],\n",
       "       [32.61334755],\n",
       "       [34.51086938],\n",
       "       [33.47135072],\n",
       "       [33.04089635],\n",
       "       [36.14225137],\n",
       "       [29.45441442],\n",
       "       [32.21120775],\n",
       "       [32.54096868],\n",
       "       [27.55749123],\n",
       "       [32.27363762],\n",
       "       [25.82084715],\n",
       "       [27.4097074 ],\n",
       "       [33.77106307],\n",
       "       [31.78275028],\n",
       "       [32.87377032],\n",
       "       [31.05819791],\n",
       "       [29.08331246],\n",
       "       [32.74324604],\n",
       "       [27.76514546],\n",
       "       [35.17870454],\n",
       "       [32.77606809],\n",
       "       [33.96709478],\n",
       "       [34.09555501],\n",
       "       [31.72118383],\n",
       "       [36.28737587],\n",
       "       [33.85428918],\n",
       "       [23.79117946],\n",
       "       [35.00200437],\n",
       "       [33.83961723],\n",
       "       [29.91356279],\n",
       "       [31.27364999],\n",
       "       [32.39053656],\n",
       "       [35.34717444],\n",
       "       [32.03562787],\n",
       "       [30.49733019],\n",
       "       [30.32871611],\n",
       "       [32.63147944],\n",
       "       [35.87659065],\n",
       "       [31.27951301],\n",
       "       [33.75667588],\n",
       "       [32.19724722],\n",
       "       [32.74753159],\n",
       "       [30.7379811 ],\n",
       "       [23.96189596],\n",
       "       [31.43781181],\n",
       "       [36.38628143],\n",
       "       [30.22709467],\n",
       "       [29.98551627],\n",
       "       [34.68515981],\n",
       "       [33.64323132],\n",
       "       [28.55480698],\n",
       "       [32.29143334],\n",
       "       [31.98433087],\n",
       "       [31.27650886]])"
      ]
     },
     "execution_count": 391,
     "metadata": {},
     "output_type": "execute_result"
    }
   ],
   "source": [
    "ridge_pred"
   ]
  },
  {
   "cell_type": "code",
   "execution_count": 392,
   "id": "e41a0c07",
   "metadata": {},
   "outputs": [
    {
     "data": {
      "text/plain": [
       "<matplotlib.collections.PathCollection at 0x18718e0efa0>"
      ]
     },
     "execution_count": 392,
     "metadata": {},
     "output_type": "execute_result"
    },
    {
     "data": {
      "image/png": "[encoded data removed]",
      "text/plain": [
       "<Figure size 720x576 with 1 Axes>"
      ]
     },
     "metadata": {},
     "output_type": "display_data"
    }
   ],
   "source": [
    "plt.scatter(y_test,reg_pred)"
   ]
  },
  {
   "cell_type": "code",
   "execution_count": 394,
   "id": "d4551af6",
   "metadata": {},
   "outputs": [],
   "source": [
    "## Residuals\n",
    "residuals1 = y_test-ridge_pred"
   ]
  },
  {
   "cell_type": "code",
   "execution_count": 395,
   "id": "0f5ac0b3",
   "metadata": {},
   "outputs": [
    {
     "data": {
      "text/html": [
       "<div>\n",
       "<style scoped>\n",
       "    .dataframe tbody tr th:only-of-type {\n",
       "        vertical-align: middle;\n",
       "    }\n",
       "\n",
       "    .dataframe tbody tr th {\n",
       "        vertical-align: top;\n",
       "    }\n",
       "\n",
       "    .dataframe thead th {\n",
       "        text-align: right;\n",
       "    }\n",
       "</style>\n",
       "<table border=\"1\" class=\"dataframe\">\n",
       "  <thead>\n",
       "    <tr style=\"text-align: right;\">\n",
       "      <th></th>\n",
       "      <th>Temperature</th>\n",
       "    </tr>\n",
       "  </thead>\n",
       "  <tbody>\n",
       "    <tr>\n",
       "      <th>162</th>\n",
       "      <td>2.372764</td>\n",
       "    </tr>\n",
       "    <tr>\n",
       "      <th>60</th>\n",
       "      <td>1.835258</td>\n",
       "    </tr>\n",
       "    <tr>\n",
       "      <th>61</th>\n",
       "      <td>2.975080</td>\n",
       "    </tr>\n",
       "    <tr>\n",
       "      <th>63</th>\n",
       "      <td>3.436810</td>\n",
       "    </tr>\n",
       "    <tr>\n",
       "      <th>69</th>\n",
       "      <td>2.139912</td>\n",
       "    </tr>\n",
       "    <tr>\n",
       "      <th>...</th>\n",
       "      <td>...</td>\n",
       "    </tr>\n",
       "    <tr>\n",
       "      <th>142</th>\n",
       "      <td>-1.643231</td>\n",
       "    </tr>\n",
       "    <tr>\n",
       "      <th>32</th>\n",
       "      <td>3.445193</td>\n",
       "    </tr>\n",
       "    <tr>\n",
       "      <th>242</th>\n",
       "      <td>-8.291433</td>\n",
       "    </tr>\n",
       "    <tr>\n",
       "      <th>7</th>\n",
       "      <td>-1.984331</td>\n",
       "    </tr>\n",
       "    <tr>\n",
       "      <th>243</th>\n",
       "      <td>-7.276509</td>\n",
       "    </tr>\n",
       "  </tbody>\n",
       "</table>\n",
       "<p>74 rows × 1 columns</p>\n",
       "</div>"
      ],
      "text/plain": [
       "     Temperature\n",
       "162     2.372764\n",
       "60      1.835258\n",
       "61      2.975080\n",
       "63      3.436810\n",
       "69      2.139912\n",
       "..           ...\n",
       "142    -1.643231\n",
       "32      3.445193\n",
       "242    -8.291433\n",
       "7      -1.984331\n",
       "243    -7.276509\n",
       "\n",
       "[74 rows x 1 columns]"
      ]
     },
     "execution_count": 395,
     "metadata": {},
     "output_type": "execute_result"
    }
   ],
   "source": [
    "residuals1"
   ]
  },
  {
   "cell_type": "code",
   "execution_count": 396,
   "id": "eb81cfcf",
   "metadata": {},
   "outputs": [
    {
     "name": "stderr",
     "output_type": "stream",
     "text": [
      "C:\\Users\\dchakrab.COMPUTACENTER\\Anaconda3\\lib\\site-packages\\seaborn\\distributions.py:2619: FutureWarning: `distplot` is a deprecated function and will be removed in a future version. Please adapt your code to use either `displot` (a figure-level function with similar flexibility) or `histplot` (an axes-level function for histograms).\n",
      "  warnings.warn(msg, FutureWarning)\n"
     ]
    },
    {
     "data": {
      "text/plain": [
       "<AxesSubplot:ylabel='Density'>"
      ]
     },
     "execution_count": 396,
     "metadata": {},
     "output_type": "execute_result"
    },
    {
     "data": {
      "image/png": "[encoded data removed]",
      "text/plain": [
       "<Figure size 720x576 with 1 Axes>"
      ]
     },
     "metadata": {},
     "output_type": "display_data"
    }
   ],
   "source": [
    "sns.distplot(residuals1,kde=True)"
   ]
  },
  {
   "cell_type": "markdown",
   "id": "5b788ef5",
   "metadata": {},
   "source": [
    "## It's left squeue which we can overcome through hyperparameter tuning"
   ]
  },
  {
   "cell_type": "code",
   "execution_count": 397,
   "id": "c8c9ffa4",
   "metadata": {},
   "outputs": [
    {
     "data": {
      "text/plain": [
       "<matplotlib.collections.PathCollection at 0x18712a116a0>"
      ]
     },
     "execution_count": 397,
     "metadata": {},
     "output_type": "execute_result"
    },
    {
     "data": {
      "image/png": "[encoded data removed]",
      "text/plain": [
       "<Figure size 720x576 with 1 Axes>"
      ]
     },
     "metadata": {},
     "output_type": "display_data"
    }
   ],
   "source": [
    "plt.scatter(ridge_pred, residuals1)"
   ]
  },
  {
   "cell_type": "code",
   "execution_count": 398,
   "id": "94bd6187",
   "metadata": {},
   "outputs": [],
   "source": [
    "### Performance metrix"
   ]
  },
  {
   "cell_type": "code",
   "execution_count": 399,
   "id": "1c6bdd31",
   "metadata": {},
   "outputs": [
    {
     "name": "stdout",
     "output_type": "stream",
     "text": [
      "6.961845963559434\n",
      "2.200867023587058\n",
      "2.6385310238008257\n"
     ]
    }
   ],
   "source": [
    "print(mean_squared_error(y_test, ridge_pred))\n",
    "print(mean_absolute_error(y_test, ridge_pred))\n",
    "print(np.sqrt(mean_squared_error(y_test, ridge_pred)))"
   ]
  },
  {
   "cell_type": "markdown",
   "id": "9b93668a",
   "metadata": {},
   "source": [
    "### R2 score value"
   ]
  },
  {
   "cell_type": "code",
   "execution_count": 400,
   "id": "4d63f511",
   "metadata": {},
   "outputs": [
    {
     "data": {
      "text/plain": [
       "0.5346361922284706"
      ]
     },
     "execution_count": 400,
     "metadata": {},
     "output_type": "execute_result"
    }
   ],
   "source": [
    "r2_score(y_test,ridge_pred)"
   ]
  },
  {
   "cell_type": "markdown",
   "id": "2947de00",
   "metadata": {},
   "source": [
    "### Adjusted R2 score value"
   ]
  },
  {
   "cell_type": "code",
   "execution_count": 401,
   "id": "8f6918b9",
   "metadata": {},
   "outputs": [
    {
     "name": "stdout",
     "output_type": "stream",
     "text": [
      "0.45207164568836045\n"
     ]
    }
   ],
   "source": [
    "print(1-(1-r2_score(y_test, ridge_pred))*((len(X_test)-1)/(len(X_test)-len(X_test[0])-1)))"
   ]
  },
  {
   "cell_type": "markdown",
   "id": "b328e3e0",
   "metadata": {},
   "source": [
    "## Lasso Regression"
   ]
  },
  {
   "cell_type": "code",
   "execution_count": 403,
   "id": "aae3c8cf",
   "metadata": {},
   "outputs": [],
   "source": [
    "from sklearn.linear_model import Lasso"
   ]
  },
  {
   "cell_type": "code",
   "execution_count": 404,
   "id": "3e46c779",
   "metadata": {},
   "outputs": [],
   "source": [
    "lasso = Lasso(alpha = 0.1)"
   ]
  },
  {
   "cell_type": "code",
   "execution_count": 405,
   "id": "14ee24a1",
   "metadata": {},
   "outputs": [
    {
     "data": {
      "text/plain": [
       "Lasso(alpha=0.1)"
      ]
     },
     "execution_count": 405,
     "metadata": {},
     "output_type": "execute_result"
    }
   ],
   "source": [
    "lasso"
   ]
  },
  {
   "cell_type": "code",
   "execution_count": 406,
   "id": "37e81164",
   "metadata": {},
   "outputs": [
    {
     "data": {
      "text/plain": [
       "Lasso(alpha=0.1)"
      ]
     },
     "execution_count": 406,
     "metadata": {},
     "output_type": "execute_result"
    }
   ],
   "source": [
    "lasso.fit(X_train,y_train)"
   ]
  },
  {
   "cell_type": "code",
   "execution_count": 408,
   "id": "a61a4395",
   "metadata": {},
   "outputs": [
    {
     "data": {
      "text/plain": [
       "array([-0.99875601, -0.44611752, -0.23421426,  1.14497172,  0.        ,\n",
       "        0.24441754,  0.21307134,  0.        ,  0.        ,  0.        ,\n",
       "        0.08240094])"
      ]
     },
     "execution_count": 408,
     "metadata": {},
     "output_type": "execute_result"
    }
   ],
   "source": [
    "lasso.coef_"
   ]
  },
  {
   "cell_type": "code",
   "execution_count": 409,
   "id": "e9b8cd1a",
   "metadata": {},
   "outputs": [
    {
     "data": {
      "text/plain": [
       "array([32.12352941])"
      ]
     },
     "execution_count": 409,
     "metadata": {},
     "output_type": "execute_result"
    }
   ],
   "source": [
    "lasso.intercept_"
   ]
  },
  {
   "cell_type": "code",
   "execution_count": 410,
   "id": "5ecbc481",
   "metadata": {},
   "outputs": [],
   "source": [
    "lasso_predict = lasso.predict(X_test)"
   ]
  },
  {
   "cell_type": "code",
   "execution_count": 414,
   "id": "04052256",
   "metadata": {},
   "outputs": [
    {
     "data": {
      "text/plain": [
       "array([31.75474084, 33.09034651, 33.23412869, 31.81304674, 33.00188271,\n",
       "       34.40966508, 33.59460944, 33.17039307, 32.07548286, 33.00179636,\n",
       "       33.70155011, 28.13903421, 34.9829361 , 29.54788703, 31.97804923,\n",
       "       32.25303446, 33.76868341, 28.09835348, 35.93165031, 34.31034883,\n",
       "       32.67906551, 33.69009093, 33.60130422, 33.04687406, 35.77236677,\n",
       "       29.31696751, 32.06737461, 32.88000863, 27.79462139, 32.11176336,\n",
       "       26.47094617, 27.07749791, 33.85140223, 32.0303361 , 32.89675181,\n",
       "       30.94392641, 29.09831439, 32.60339989, 27.81966774, 34.91417334,\n",
       "       32.63176683, 34.00725163, 34.12281903, 31.51313172, 35.94481465,\n",
       "       33.91804251, 25.23443937, 34.86603711, 33.85810949, 29.92900734,\n",
       "       31.36373133, 32.52621689, 35.30543061, 32.19392799, 30.75700457,\n",
       "       30.36636343, 32.64411787, 35.85088782, 31.32820808, 33.6083265 ,\n",
       "       32.24646658, 32.60265033, 30.94853186, 25.04915378, 31.64551794,\n",
       "       35.91059488, 30.23659279, 30.02480133, 34.59178245, 33.50986593,\n",
       "       28.89483502, 32.25690258, 32.16335846, 31.05219904])"
      ]
     },
     "execution_count": 414,
     "metadata": {},
     "output_type": "execute_result"
    }
   ],
   "source": [
    "lasso_predict"
   ]
  },
  {
   "cell_type": "code",
   "execution_count": 412,
   "id": "c2cbcf93",
   "metadata": {},
   "outputs": [
    {
     "data": {
      "text/plain": [
       "<matplotlib.collections.PathCollection at 0x1871be98610>"
      ]
     },
     "execution_count": 412,
     "metadata": {},
     "output_type": "execute_result"
    },
    {
     "data": {
      "image/png": "[encoded data removed]",
      "text/plain": [
       "<Figure size 720x576 with 1 Axes>"
      ]
     },
     "metadata": {},
     "output_type": "display_data"
    }
   ],
   "source": [
    "plt.scatter(y_test,lasso_predict)"
   ]
  },
  {
   "cell_type": "code",
   "execution_count": 422,
   "id": "e141a413",
   "metadata": {},
   "outputs": [
    {
     "data": {
      "text/plain": [
       "array([31.75474084, 33.09034651, 33.23412869, 31.81304674, 33.00188271,\n",
       "       34.40966508, 33.59460944, 33.17039307, 32.07548286, 33.00179636,\n",
       "       33.70155011, 28.13903421, 34.9829361 , 29.54788703, 31.97804923,\n",
       "       32.25303446, 33.76868341, 28.09835348, 35.93165031, 34.31034883,\n",
       "       32.67906551, 33.69009093, 33.60130422, 33.04687406, 35.77236677,\n",
       "       29.31696751, 32.06737461, 32.88000863, 27.79462139, 32.11176336,\n",
       "       26.47094617, 27.07749791, 33.85140223, 32.0303361 , 32.89675181,\n",
       "       30.94392641, 29.09831439, 32.60339989, 27.81966774, 34.91417334,\n",
       "       32.63176683, 34.00725163, 34.12281903, 31.51313172, 35.94481465,\n",
       "       33.91804251, 25.23443937, 34.86603711, 33.85810949, 29.92900734,\n",
       "       31.36373133, 32.52621689, 35.30543061, 32.19392799, 30.75700457,\n",
       "       30.36636343, 32.64411787, 35.85088782, 31.32820808, 33.6083265 ,\n",
       "       32.24646658, 32.60265033, 30.94853186, 25.04915378, 31.64551794,\n",
       "       35.91059488, 30.23659279, 30.02480133, 34.59178245, 33.50986593,\n",
       "       28.89483502, 32.25690258, 32.16335846, 31.05219904])"
      ]
     },
     "execution_count": 422,
     "metadata": {},
     "output_type": "execute_result"
    }
   ],
   "source": [
    "lasso_predict"
   ]
  },
  {
   "cell_type": "markdown",
   "id": "1ab6a12f",
   "metadata": {},
   "source": [
    "## Performance Metrics"
   ]
  },
  {
   "cell_type": "code",
   "execution_count": 423,
   "id": "0f58a1aa",
   "metadata": {},
   "outputs": [
    {
     "name": "stdout",
     "output_type": "stream",
     "text": [
      "6.714166421664919\n",
      "2.181881942503933\n",
      "2.591170859218843\n"
     ]
    }
   ],
   "source": [
    "print(mean_squared_error(y_test, lasso_predict))\n",
    "print(mean_absolute_error(y_test, lasso_predict))\n",
    "print(np.sqrt(mean_squared_error(y_test, lasso_predict)))"
   ]
  },
  {
   "cell_type": "markdown",
   "id": "9286ea43",
   "metadata": {},
   "source": [
    "### R2 Score value"
   ]
  },
  {
   "cell_type": "code",
   "execution_count": 424,
   "id": "385bf8d3",
   "metadata": {},
   "outputs": [
    {
     "data": {
      "text/plain": [
       "0.5346361922284706"
      ]
     },
     "execution_count": 424,
     "metadata": {},
     "output_type": "execute_result"
    }
   ],
   "source": [
    "r2_score(y_test,ridge_pred)"
   ]
  },
  {
   "cell_type": "markdown",
   "id": "d00f8f8e",
   "metadata": {},
   "source": [
    "### Adjusted R2 Score Value"
   ]
  },
  {
   "cell_type": "code",
   "execution_count": 425,
   "id": "f2c57c32",
   "metadata": {},
   "outputs": [
    {
     "name": "stdout",
     "output_type": "stream",
     "text": [
      "0.45207164568836045\n"
     ]
    }
   ],
   "source": [
    "print(1-(1-r2_score(y_test, ridge_pred))*((len(X_test)-1)/(len(X_test)-len(X_test[0])-1)))"
   ]
  },
  {
   "cell_type": "markdown",
   "id": "a25fb5f8",
   "metadata": {},
   "source": [
    "## Elastic Net"
   ]
  },
  {
   "cell_type": "code",
   "execution_count": 426,
   "id": "f9eac82a",
   "metadata": {},
   "outputs": [],
   "source": [
    "from sklearn.linear_model import ElasticNet"
   ]
  },
  {
   "cell_type": "code",
   "execution_count": 427,
   "id": "2f6b9269",
   "metadata": {},
   "outputs": [],
   "source": [
    "el_net = ElasticNet()"
   ]
  },
  {
   "cell_type": "code",
   "execution_count": 428,
   "id": "2aa3a60a",
   "metadata": {},
   "outputs": [
    {
     "data": {
      "text/plain": [
       "ElasticNet()"
      ]
     },
     "execution_count": 428,
     "metadata": {},
     "output_type": "execute_result"
    }
   ],
   "source": [
    "el_net.fit(X_train,y_train)"
   ]
  },
  {
   "cell_type": "code",
   "execution_count": 429,
   "id": "f822f833",
   "metadata": {},
   "outputs": [
    {
     "name": "stdout",
     "output_type": "stream",
     "text": [
      "[-0.62153098 -0.13608355 -0.12499359  0.69448406  0.03983696  0.\n",
      "  0.25607847  0.01102269  0.10815947  0.07965409  0.        ]\n"
     ]
    }
   ],
   "source": [
    "print(el_net.coef_)"
   ]
  },
  {
   "cell_type": "code",
   "execution_count": 430,
   "id": "0be20d14",
   "metadata": {},
   "outputs": [
    {
     "name": "stdout",
     "output_type": "stream",
     "text": [
      "[32.12352941]\n"
     ]
    }
   ],
   "source": [
    "print(el_net.intercept_)"
   ]
  },
  {
   "cell_type": "code",
   "execution_count": 441,
   "id": "bde8ca40",
   "metadata": {},
   "outputs": [],
   "source": [
    "el_net_pred = el_net.predict(X_test)"
   ]
  },
  {
   "cell_type": "code",
   "execution_count": 444,
   "id": "7a5ba376",
   "metadata": {},
   "outputs": [],
   "source": [
    "el_net_pred=el_net_pred.reshape(74,1)"
   ]
  },
  {
   "cell_type": "code",
   "execution_count": 434,
   "id": "5fecc745",
   "metadata": {},
   "outputs": [
    {
     "data": {
      "text/plain": [
       "Text(0, 0.5, 'Test Predicted Data')"
      ]
     },
     "execution_count": 434,
     "metadata": {},
     "output_type": "execute_result"
    },
    {
     "data": {
      "image/png": "[encoded data removed]",
      "text/plain": [
       "<Figure size 720x576 with 1 Axes>"
      ]
     },
     "metadata": {},
     "output_type": "display_data"
    }
   ],
   "source": [
    "plt.scatter(y_test,el_net_pred)\n",
    "plt.xlabel('Test True Data')\n",
    "plt.ylabel('Test Predicted Data')"
   ]
  },
  {
   "cell_type": "markdown",
   "id": "add8813d",
   "metadata": {},
   "source": [
    "### It's bit in linear model we can say"
   ]
  },
  {
   "cell_type": "code",
   "execution_count": 436,
   "id": "b37f2840",
   "metadata": {},
   "outputs": [],
   "source": [
    "## Now we need to calculate residual"
   ]
  },
  {
   "cell_type": "code",
   "execution_count": 445,
   "id": "416ca2f9",
   "metadata": {},
   "outputs": [],
   "source": [
    "residual = y_test - el_net_pred"
   ]
  },
  {
   "cell_type": "code",
   "execution_count": 446,
   "id": "68aeab1e",
   "metadata": {},
   "outputs": [
    {
     "data": {
      "text/html": [
       "<div>\n",
       "<style scoped>\n",
       "    .dataframe tbody tr th:only-of-type {\n",
       "        vertical-align: middle;\n",
       "    }\n",
       "\n",
       "    .dataframe tbody tr th {\n",
       "        vertical-align: top;\n",
       "    }\n",
       "\n",
       "    .dataframe thead th {\n",
       "        text-align: right;\n",
       "    }\n",
       "</style>\n",
       "<table border=\"1\" class=\"dataframe\">\n",
       "  <thead>\n",
       "    <tr style=\"text-align: right;\">\n",
       "      <th></th>\n",
       "      <th>Temperature</th>\n",
       "    </tr>\n",
       "  </thead>\n",
       "  <tbody>\n",
       "    <tr>\n",
       "      <th>162</th>\n",
       "      <td>2.307893</td>\n",
       "    </tr>\n",
       "    <tr>\n",
       "      <th>60</th>\n",
       "      <td>2.127900</td>\n",
       "    </tr>\n",
       "    <tr>\n",
       "      <th>61</th>\n",
       "      <td>3.373776</td>\n",
       "    </tr>\n",
       "    <tr>\n",
       "      <th>63</th>\n",
       "      <td>3.257713</td>\n",
       "    </tr>\n",
       "    <tr>\n",
       "      <th>69</th>\n",
       "      <td>2.057664</td>\n",
       "    </tr>\n",
       "    <tr>\n",
       "      <th>...</th>\n",
       "      <td>...</td>\n",
       "    </tr>\n",
       "    <tr>\n",
       "      <th>142</th>\n",
       "      <td>-0.977655</td>\n",
       "    </tr>\n",
       "    <tr>\n",
       "      <th>32</th>\n",
       "      <td>1.784733</td>\n",
       "    </tr>\n",
       "    <tr>\n",
       "      <th>242</th>\n",
       "      <td>-8.082039</td>\n",
       "    </tr>\n",
       "    <tr>\n",
       "      <th>7</th>\n",
       "      <td>-2.293049</td>\n",
       "    </tr>\n",
       "    <tr>\n",
       "      <th>243</th>\n",
       "      <td>-7.179875</td>\n",
       "    </tr>\n",
       "  </tbody>\n",
       "</table>\n",
       "<p>74 rows × 1 columns</p>\n",
       "</div>"
      ],
      "text/plain": [
       "     Temperature\n",
       "162     2.307893\n",
       "60      2.127900\n",
       "61      3.373776\n",
       "63      3.257713\n",
       "69      2.057664\n",
       "..           ...\n",
       "142    -0.977655\n",
       "32      1.784733\n",
       "242    -8.082039\n",
       "7      -2.293049\n",
       "243    -7.179875\n",
       "\n",
       "[74 rows x 1 columns]"
      ]
     },
     "execution_count": 446,
     "metadata": {},
     "output_type": "execute_result"
    }
   ],
   "source": [
    "residual"
   ]
  },
  {
   "cell_type": "code",
   "execution_count": 448,
   "id": "0acdeb6a",
   "metadata": {},
   "outputs": [
    {
     "data": {
      "text/plain": [
       "<seaborn.axisgrid.FacetGrid at 0x1871c8cc400>"
      ]
     },
     "execution_count": 448,
     "metadata": {},
     "output_type": "execute_result"
    },
    {
     "data": {
      "image/png": "[encoded data removed]",
      "text/plain": [
       "<Figure size 461.725x360 with 1 Axes>"
      ]
     },
     "metadata": {},
     "output_type": "display_data"
    }
   ],
   "source": [
    "sns.displot(residual,kind='kde')"
   ]
  },
  {
   "cell_type": "markdown",
   "id": "8cc88e4a",
   "metadata": {},
   "source": [
    "### Approximately in normal distribution we can say."
   ]
  },
  {
   "cell_type": "markdown",
   "id": "f3a81fed",
   "metadata": {},
   "source": [
    "### Scatter plot with predictions and residuals\n",
    "### Uniform distribution"
   ]
  },
  {
   "cell_type": "code",
   "execution_count": 449,
   "id": "4f403fcb",
   "metadata": {},
   "outputs": [
    {
     "data": {
      "text/plain": [
       "<matplotlib.collections.PathCollection at 0x1871cc5c5e0>"
      ]
     },
     "execution_count": 449,
     "metadata": {},
     "output_type": "execute_result"
    },
    {
     "data": {
      "image/png": "[encoded data removed]",
      "text/plain": [
       "<Figure size 720x576 with 1 Axes>"
      ]
     },
     "metadata": {},
     "output_type": "display_data"
    }
   ],
   "source": [
    "plt.scatter(el_net_pred, residual)"
   ]
  },
  {
   "cell_type": "markdown",
   "id": "2b182b53",
   "metadata": {},
   "source": [
    "### Performance Metrics"
   ]
  },
  {
   "cell_type": "code",
   "execution_count": 450,
   "id": "8ebad5ce",
   "metadata": {},
   "outputs": [
    {
     "name": "stdout",
     "output_type": "stream",
     "text": [
      "8.083371037461514\n",
      "2.38748638704016\n",
      "2.8431269822963436\n"
     ]
    }
   ],
   "source": [
    "print(mean_squared_error(y_test, el_net_pred))\n",
    "print(mean_absolute_error(y_test, el_net_pred))\n",
    "print(np.sqrt(mean_squared_error(y_test, el_net_pred)))"
   ]
  },
  {
   "cell_type": "markdown",
   "id": "c4a31b29",
   "metadata": {},
   "source": [
    "### R2 score value"
   ]
  },
  {
   "cell_type": "code",
   "execution_count": 451,
   "id": "d5fc6b3f",
   "metadata": {},
   "outputs": [
    {
     "data": {
      "text/plain": [
       "0.45966797523053604"
      ]
     },
     "execution_count": 451,
     "metadata": {},
     "output_type": "execute_result"
    }
   ],
   "source": [
    "r2_score(y_test,el_net_pred)"
   ]
  },
  {
   "cell_type": "markdown",
   "id": "8f0801ae",
   "metadata": {},
   "source": [
    "### Adjusted R2 Score value"
   ]
  },
  {
   "cell_type": "code",
   "execution_count": 452,
   "id": "1b0a9c28",
   "metadata": {},
   "outputs": [
    {
     "name": "stdout",
     "output_type": "stream",
     "text": [
      "0.36380261599724406\n"
     ]
    }
   ],
   "source": [
    "print(1-(1-r2_score(y_test, el_net_pred))*((len(X_test)-1)/(len(X_test)-len(X_test[0])-1)))"
   ]
  },
  {
   "cell_type": "code",
   "execution_count": null,
   "id": "fd6d7215",
   "metadata": {},
   "outputs": [],
   "source": []
  }
 ],
 "metadata": {
  "kernelspec": {
   "display_name": "Python 3 (ipykernel)",
   "language": "python",
   "name": "python3"
  },
  "language_info": {
   "codemirror_mode": {
    "name": "ipython",
    "version": 3
   },
   "file_extension": ".py",
   "mimetype": "text/x-python",
   "name": "python",
   "nbconvert_exporter": "python",
   "pygments_lexer": "ipython3",
   "version": "3.9.12"
  }
 },
 "nbformat": 4,
 "nbformat_minor": 5
}
